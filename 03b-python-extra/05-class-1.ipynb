{
 "cells": [
  {
   "cell_type": "markdown",
   "metadata": {},
   "source": [
    "# Classes\n",
    "\n",
    "Defining and using classes in python\n",
    "\n",
    "\n",
    "1. The `class` keyword is used to define a new class called `Dog`.\n",
    "2. The `__init__` method is the constructor for the class, which is called when an instance of the class is created. In this case, it takes two arguments: `name` and `age`. These arguments are assigned to the instance's attributes using the `self.` keyword.\n",
    "3. The `greet` method is a function that belongs to the `Dog` class. It prints \"Woof!\" to the console.\n",
    "4. Finally, we create an instance of the `Dog` class called `dog`, and call the `greet` method on it. This will print \"Woof!\" to the console.\n",
    "\n",
    "This is a very basic example of a Python class, but it illustrates some key concepts:\n",
    "\n",
    "* Classes are defined using the `class` keyword.\n",
    "* Constructors are used to initialize instances of classes.\n",
    "* Methods are functions that belong to a class and can be called on an instance of that class.\n"
   ]
  },
  {
   "cell_type": "code",
   "execution_count": 1,
   "metadata": {},
   "outputs": [
    {
     "name": "stdout",
     "output_type": "stream",
     "text": [
      "Fido says Woof!\n",
      "Fluffy says Meow!\n"
     ]
    }
   ],
   "source": [
    "class Dog:\n",
    "    def __init__(self, name, age):\n",
    "        self.name = name\n",
    "        self.age = age\n",
    "\n",
    "    def greet(self):\n",
    "        print(f\"{self.name} says Woof!\")\n",
    "\n",
    "class Cat:\n",
    "    def __init__(self, name, age):\n",
    "        self.name = name\n",
    "        self.age = age\n",
    "\n",
    "    def greet(self):\n",
    "        print(f\"{self.name} says Meow!\")\n",
    "\n",
    "dog = Dog(\"Fido\", 3)\n",
    "dog.greet() # Output: \"Woof!\"\n",
    "\n",
    "cat = Cat(\"Fluffy\", 3)\n",
    "cat.greet() # Output: \"Woof!\""
   ]
  },
  {
   "cell_type": "markdown",
   "metadata": {},
   "source": [
    "## `__str__` method\n",
    "\n",
    "when we want more informative print out, we can implement `__str__` method.  See the example below"
   ]
  },
  {
   "cell_type": "code",
   "execution_count": 2,
   "metadata": {},
   "outputs": [
    {
     "name": "stdout",
     "output_type": "stream",
     "text": [
      "<__main__.Dog object at 0x7f7ac82a5910>\n"
     ]
    }
   ],
   "source": [
    "dog1 = Dog ('Spot', 5)\n",
    "print (dog1)"
   ]
  },
  {
   "cell_type": "code",
   "execution_count": 3,
   "metadata": {},
   "outputs": [
    {
     "name": "stdout",
     "output_type": "stream",
     "text": [
      "My name is Spot, and I am  5 years old.\n"
     ]
    }
   ],
   "source": [
    "class Dog:\n",
    "    def __init__(self, name, age):\n",
    "        self.name = name\n",
    "        self.age = age\n",
    "\n",
    "    def greet(self):\n",
    "        print(f\"{self.name} says Woof!\")\n",
    "\n",
    "    def __str__(self):\n",
    "        return f\"My name is {self.name}, and I am  {self.age} years old.\"\n",
    "\n",
    "dog1 = Dog ('Spot', 5)\n",
    "print (dog1)"
   ]
  },
  {
   "cell_type": "markdown",
   "metadata": {},
   "source": [
    "## Exercise\n",
    "\n",
    "Define a class `Student` and initialize with `name`, `score`.\n",
    "\n",
    "Also implement a function `get_grade` that does the following:\n",
    "- if `score` is above 70 then return `PASS`\n",
    "- otherwise return `FAIL`"
   ]
  },
  {
   "cell_type": "markdown",
   "metadata": {},
   "source": []
  }
 ],
 "metadata": {
  "kernelspec": {
   "display_name": "pyds",
   "language": "python",
   "name": "python3"
  },
  "language_info": {
   "codemirror_mode": {
    "name": "ipython",
    "version": 3
   },
   "file_extension": ".py",
   "mimetype": "text/x-python",
   "name": "python",
   "nbconvert_exporter": "python",
   "pygments_lexer": "ipython3",
   "version": "3.9.16"
  }
 },
 "nbformat": 4,
 "nbformat_minor": 2
}
