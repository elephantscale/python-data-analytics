{
 "cells": [
  {
   "cell_type": "markdown",
   "metadata": {},
   "source": [
    "# Funtions with variable arguments\n",
    "\n",
    "## `*args` syntax\n",
    "\n",
    "`*args` receives arguments as a tuple."
   ]
  },
  {
   "cell_type": "code",
   "execution_count": 10,
   "metadata": {},
   "outputs": [
    {
     "name": "stdout",
     "output_type": "stream",
     "text": [
      "Args passed:  (1,)\n",
      "1\n",
      "None\n",
      "\n",
      "Args passed:  (1, 2)\n",
      "1\n",
      "2\n",
      "None\n",
      "\n",
      "Args passed:  (1, 2, 3)\n",
      "1\n",
      "2\n",
      "3\n",
      "None\n",
      "\n",
      "Args passed:  ()\n",
      "None\n",
      "\n"
     ]
    }
   ],
   "source": [
    "def print_args(*args):\n",
    "    print ('Args passed: ', args)\n",
    "    for arg in args:\n",
    "        print(arg)\n",
    "\n",
    "print (print_args(1))\n",
    "print()\n",
    "print (print_args(1,2))\n",
    "print()\n",
    "print (print_args(1,2,3))\n",
    "print()\n",
    "print (print_args())\n",
    "print()"
   ]
  },
  {
   "cell_type": "markdown",
   "metadata": {},
   "source": [
    "## Mixing arguments\n",
    "\n",
    "This function takes two required arguments `name` and `*args`, where `*`args is a variable length argument. The `*args` syntax indicates that the function can take any number of additional arguments, which are stored in a tuple called `args`.\n",
    "\n",
    "In this example, we call the `greet` function with three arguments: \"Alice\", \"Bob\", and \"Charlie\". The first two arguments are passed as normal, but the third argument is passed as a variable length argument. The `*args` syntax allows us to access all of the additional arguments in the tuple `args`.\n"
   ]
  },
  {
   "cell_type": "code",
   "execution_count": 13,
   "metadata": {},
   "outputs": [
    {
     "name": "stdout",
     "output_type": "stream",
     "text": [
      "Hello\n",
      "Alice\n",
      "\n",
      "Hello\n",
      "Alice\n",
      "Bob\n",
      "\n",
      "Hello\n",
      "\n"
     ]
    }
   ],
   "source": [
    "def greet(greeting, *args):\n",
    "    print(greeting)\n",
    "    for arg in args:\n",
    "        print(arg)\n",
    "\n",
    "greet('Hello', 'Alice')\n",
    "print()\n",
    "greet('Hello', 'Alice', 'Bob')\n",
    "print()\n",
    "greet('Hello')\n",
    "print()"
   ]
  },
  {
   "cell_type": "markdown",
   "metadata": {},
   "source": [
    "## Exercise\n",
    "\n",
    "Write a add function.  It takes 2 arguments x,y as mandatory.  And optionally more arguments.\n",
    "\n",
    "Return the value of sum of all numbers passed in"
   ]
  },
  {
   "cell_type": "code",
   "execution_count": 14,
   "metadata": {},
   "outputs": [],
   "source": [
    "def my_sum(x,y, *args):\n",
    "    sum =  x + y\n",
    "    # TODO - add all arguments\n",
    "    return sum"
   ]
  },
  {
   "cell_type": "code",
   "execution_count": 17,
   "metadata": {},
   "outputs": [
    {
     "name": "stdout",
     "output_type": "stream",
     "text": [
      "3\n",
      "3\n",
      "3\n"
     ]
    }
   ],
   "source": [
    "# test it like this\n",
    "\n",
    "print (my_sum(1,2))\n",
    "print (my_sum(1,2,3))\n",
    "print (my_sum(1,2,3,4))"
   ]
  },
  {
   "cell_type": "markdown",
   "metadata": {},
   "source": [
    "## `**kwargs`\n",
    "\n",
    "`**kwargs` receives arguments as a dictionary."
   ]
  },
  {
   "cell_type": "code",
   "execution_count": 25,
   "metadata": {},
   "outputs": [
    {
     "name": "stdout",
     "output_type": "stream",
     "text": [
      "kwargs:  {'name': 'Tim', 'age': 40, 'city': 'Los Angeles'}\n",
      "name = Tim\n",
      "age = 40\n",
      "city = Los Angeles\n"
     ]
    }
   ],
   "source": [
    "def myFun(**kwargs):\n",
    "    print(\"kwargs: \", kwargs)\n",
    "    for key, value in kwargs.items():\n",
    "        print(f'{key} = {value}')\n",
    "\n",
    "\n",
    "myFun(name='Tim', age=40, city='Los Angeles')\n"
   ]
  },
  {
   "cell_type": "code",
   "execution_count": 34,
   "metadata": {},
   "outputs": [
    {
     "name": "stdout",
     "output_type": "stream",
     "text": [
      "Hello  Tim\n",
      "here is extra info...\n",
      "--------\n",
      "Hello  Tim\n",
      "here is extra info...\n",
      "age = 40\n",
      "--------\n",
      "Hello  Tim\n",
      "here is extra info...\n",
      "age = 40\n",
      "city = Los Angeles\n",
      "--------\n"
     ]
    }
   ],
   "source": [
    "def print_person (name, **kwargs):\n",
    "    print (\"Hello \", name)\n",
    "    print (\"here is extra info...\")\n",
    "    for key,value in kwargs.items():\n",
    "        print(f'{key} = {value}')\n",
    "    print ('--------')\n",
    "\n",
    "print_person ('Tim')\n",
    "print_person ('Tim', age=40)\n",
    "print_person ('Tim', age = 40, city = 'Los Angeles')"
   ]
  },
  {
   "cell_type": "code",
   "execution_count": null,
   "metadata": {},
   "outputs": [],
   "source": []
  }
 ],
 "metadata": {
  "kernelspec": {
   "display_name": "pyds",
   "language": "python",
   "name": "python3"
  },
  "language_info": {
   "codemirror_mode": {
    "name": "ipython",
    "version": 3
   },
   "file_extension": ".py",
   "mimetype": "text/x-python",
   "name": "python",
   "nbconvert_exporter": "python",
   "pygments_lexer": "ipython3",
   "version": "3.9.16"
  }
 },
 "nbformat": 4,
 "nbformat_minor": 2
}
