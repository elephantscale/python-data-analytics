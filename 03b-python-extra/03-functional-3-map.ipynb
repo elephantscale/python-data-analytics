{
 "cells": [
  {
   "cell_type": "markdown",
   "metadata": {},
   "source": [
    "# Functional - Map"
   ]
  },
  {
   "cell_type": "code",
   "execution_count": 1,
   "metadata": {},
   "outputs": [],
   "source": [
    "def square (x):\n",
    "    return x*x"
   ]
  },
  {
   "cell_type": "code",
   "execution_count": 2,
   "metadata": {},
   "outputs": [],
   "source": [
    "square2 = lambda x : x*x"
   ]
  },
  {
   "cell_type": "code",
   "execution_count": 3,
   "metadata": {},
   "outputs": [
    {
     "data": {
      "text/plain": [
       "[1, 0, 1, 9, 16]"
      ]
     },
     "execution_count": 3,
     "metadata": {},
     "output_type": "execute_result"
    }
   ],
   "source": [
    "numbers = [1, 0, -1, 3, -4]\n",
    "\n",
    "squared_numbers = list(map (square, numbers))\n",
    "squared_numbers"
   ]
  },
  {
   "cell_type": "markdown",
   "metadata": {},
   "source": [
    "## Exercise\n",
    "\n",
    "Write a function to convert a word to all UPPERCASE.\n",
    "\n",
    "Use that to convert a sentence to uppercase"
   ]
  },
  {
   "cell_type": "code",
   "execution_count": 4,
   "metadata": {},
   "outputs": [
    {
     "name": "stdout",
     "output_type": "stream",
     "text": [
      "['Python', 'is', 'an', 'easy', 'to', 'use', 'language']\n"
     ]
    }
   ],
   "source": [
    "def my_upper(word):\n",
    "    # TODO - write your code here\n",
    "    return word\n",
    "\n",
    "sentence = \"Python is an easy to use language\"\n",
    "words  = sentence.split()\n",
    "print (words)"
   ]
  },
  {
   "cell_type": "code",
   "execution_count": 5,
   "metadata": {},
   "outputs": [],
   "source": [
    "## TODO- Now use the my_upper to convert words into all uppercase\n",
    "\n",
    "#words_upper = list (map(???, ???))"
   ]
  },
  {
   "cell_type": "markdown",
   "metadata": {},
   "source": [
    "## Loops vs map/filter\n",
    "\n",
    "Using loops and using `map()` or `filter()` functions have different advantages and disadvantages. Here are some of the key differences:\n",
    "\n",
    "Advantages of Using Loops:\n",
    "\n",
    "1. Control over iteration: With a loop, you have full control over how many times the code inside the loop is executed. You can use conditional statements to determine when to exit the loop or change the loop's behavior.\n",
    "2. Efficiency: Loops are generally faster than using `map()` or `filter()` functions because they allow for more fine-grained control over the iteration process.\n",
    "3. Readability: Loops are often easier to read and understand, especially when you have a simple operation that needs to be performed on each element of a list.\n",
    "\n",
    "Disadvantages of Using Loops:\n",
    "\n",
    "1. Slow performance: As the size of the data increases, loops can become slower than using `map()` or `filter()` functions because they require more computational resources.\n",
    "2. Code bloat: Loops can result in code that is harder to maintain and debug because you have to write more code to perform a simple operation.\n",
    "3. Lack of parallelism: Loops do not take advantage of parallel processing, which can limit their performance on large datasets.\n",
    "\n",
    "Advantages of Using `map()` or `filter()` Functions:\n",
    "\n",
    "1. Easy to read and write: `map()` and `filter()` functions are often easier to read and write than loops because they provide a more concise way of expressing the operation you want to perform on each element of a list.\n",
    "2. Faster performance: Using `map()` or `filter()` functions can be faster than using loops because they take advantage of parallel processing and vectorization, which can significantly improve performance on large datasets.\n",
    "3. Scalability: `map()` and `filter()` functions are designed to scale well with large datasets, making them a good choice for applications that require handling large amounts of data.\n",
    "\n",
    "Disadvantages of Using `map()` or `filter()` Functions:\n",
    "\n",
    "1. Limited control: With `map()` and `filter()`, you have less control over the iteration process than with loops because the functions are designed to work on entire lists at once.\n",
    "2. Code bloat: While `map()` and `filter()` functions can be more concise than loops, they can also result in code that is harder to read and understand if not used carefully.\n",
    "3. Limited flexibility: `map()` and `filter()` functions are designed to work on specific types of data structures, such as lists or dictionaries, which may limit their applicability in certain situations."
   ]
  },
  {
   "cell_type": "markdown",
   "metadata": {},
   "source": []
  }
 ],
 "metadata": {
  "kernelspec": {
   "display_name": "pyds",
   "language": "python",
   "name": "python3"
  },
  "language_info": {
   "codemirror_mode": {
    "name": "ipython",
    "version": 3
   },
   "file_extension": ".py",
   "mimetype": "text/x-python",
   "name": "python",
   "nbconvert_exporter": "python",
   "pygments_lexer": "ipython3",
   "version": "3.9.16"
  }
 },
 "nbformat": 4,
 "nbformat_minor": 2
}
