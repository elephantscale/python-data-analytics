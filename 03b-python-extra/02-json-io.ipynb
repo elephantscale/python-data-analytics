{
 "cells": [
  {
   "cell_type": "markdown",
   "metadata": {},
   "source": [
    "# JSON IO"
   ]
  },
  {
   "cell_type": "markdown",
   "metadata": {},
   "source": [
    "## Reading JSON file"
   ]
  },
  {
   "cell_type": "code",
   "execution_count": 1,
   "metadata": {},
   "outputs": [
    {
     "name": "stdout",
     "output_type": "stream",
     "text": [
      "{'name': 'Han Solo', 'age': 35, 'city': 'Coruscant'}\n"
     ]
    }
   ],
   "source": [
    "## Loading method 1 - using json to load\n",
    "\n",
    "import json\n",
    "\n",
    "with open(\"example-3.json\", \"r\") as f:\n",
    "    data = json.load(f)\n",
    "\n",
    "print(data)"
   ]
  },
  {
   "cell_type": "code",
   "execution_count": 2,
   "metadata": {},
   "outputs": [
    {
     "name": "stdout",
     "output_type": "stream",
     "text": [
      "{'name': 'Han Solo', 'age': 35, 'city': 'Coruscant'}\n"
     ]
    }
   ],
   "source": [
    "## Loading 2 - read as str and then parse as json\n",
    "\n",
    "import json\n",
    "\n",
    "with open(\"example-3.json\", \"r\") as f:\n",
    "    content = f.read()\n",
    "\n",
    "data = json.loads(content)\n",
    "\n",
    "print(data)"
   ]
  },
  {
   "cell_type": "markdown",
   "metadata": {},
   "source": [
    "## Writing JSON file"
   ]
  },
  {
   "cell_type": "code",
   "execution_count": 3,
   "metadata": {},
   "outputs": [],
   "source": [
    "import json\n",
    "\n",
    "person = {\n",
    "  \"name\": \"Luke Skywalker\",\n",
    "  \"age\": 20,\n",
    "  \"city\": \"Tatooine\"\n",
    "}\n",
    "\n",
    "\n",
    "with open(\"example-4.json\", \"w\") as f:\n",
    "    json.dump(person, f)"
   ]
  },
  {
   "cell_type": "code",
   "execution_count": 4,
   "metadata": {},
   "outputs": [],
   "source": [
    "## Here is another way to write\n",
    "\n",
    "import json\n",
    "\n",
    "contents  = json.dumps(person)\n",
    "\n",
    "with open(\"example-4.json\", \"w\") as f:\n",
    "    f.write(contents)"
   ]
  },
  {
   "cell_type": "code",
   "execution_count": 5,
   "metadata": {},
   "outputs": [
    {
     "name": "stdout",
     "output_type": "stream",
     "text": [
      "{'name': 'Luke Skywalker', 'age': 20, 'city': 'Tatooine'}\n"
     ]
    }
   ],
   "source": [
    "## Read back and verify\n",
    "import json\n",
    "\n",
    "with open(\"example-4.json\", \"r\") as f:\n",
    "    data = json.load(f)\n",
    "\n",
    "print(data)"
   ]
  }
 ],
 "metadata": {
  "kernelspec": {
   "display_name": "pyds",
   "language": "python",
   "name": "python3"
  },
  "language_info": {
   "codemirror_mode": {
    "name": "ipython",
    "version": 3
   },
   "file_extension": ".py",
   "mimetype": "text/x-python",
   "name": "python",
   "nbconvert_exporter": "python",
   "pygments_lexer": "ipython3",
   "version": "3.9.16"
  }
 },
 "nbformat": 4,
 "nbformat_minor": 2
}
