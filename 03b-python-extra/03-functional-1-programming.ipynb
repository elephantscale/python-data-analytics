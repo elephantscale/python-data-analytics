{
 "cells": [
  {
   "cell_type": "markdown",
   "metadata": {},
   "source": [
    "# Functional Programming in Python\n",
    "\n",
    "Functional programming has several benefits, including:\n",
    "\n",
    "1. Modularity: Functional programs are made up of small, independent functions that can be combined in different ways to solve a problem. This makes it easier to understand and maintain the code.\n",
    "2. Reusability: Functions can be reused in different parts of a program, reducing the amount of code duplication and making it easier to modify the program.\n",
    "3. Improved readability: Functional programs are often more readable than imperative programs because they use clear, concise syntax and avoid unnecessary complexity.\n",
    "4. Easier parallelization: Functional programs can be easily parallelized, which makes them well-suited for problems that can be solved by multiple processors or cores.\n",
    "5. Improved error handling: Functional programming emphasizes the use of pure functions, which make it easier to handle errors and exceptions in a predictable way.\n",
    "6. Better support for concurrency: Functional programming languages often have built-in support for concurrency, which makes it easier to write programs that can take advantage of multiple processors or cores.\n",
    "7. Improved testability: Functional programs are often easier to test because they are more modular and have fewer side effects.\n",
    "8. Better support for data processing: Functional programming languages often have built-in support for data processing, which makes it easier to write programs that can process large amounts of data efficiently.\n",
    "9. Improved performance: Functional programming languages often have better performance than imperative programming languages because they are designed to optimize for the evaluation of pure functions.\n",
    "10. Better support for functional programming paradigms: Functional programming languages often have built-in support for functional programming paradigms, such as higher-order functions, closures, and immutable data structures, which make it easier to write programs that follow the principles of functional programming."
   ]
  },
  {
   "cell_type": "markdown",
   "metadata": {},
   "source": [
    "## Passing functions to functions\n"
   ]
  },
  {
   "cell_type": "code",
   "execution_count": 2,
   "metadata": {},
   "outputs": [
    {
     "name": "stdout",
     "output_type": "stream",
     "text": [
      "5\n",
      "6\n"
     ]
    }
   ],
   "source": [
    "def add(x, y):\n",
    "    return x + y\n",
    "\n",
    "def multiply(x, y):\n",
    "    return x * y\n",
    "\n",
    "def apply_function(func, x, y):\n",
    "    return func(x, y)\n",
    "\n",
    "result = apply_function(add, 2, 3) # result is 5\n",
    "print (result)\n",
    "\n",
    "result = apply_function(multiply, 2, 3) # result is 6\n",
    "print (result)"
   ]
  }
 ],
 "metadata": {
  "kernelspec": {
   "display_name": "pyds",
   "language": "python",
   "name": "python3"
  },
  "language_info": {
   "codemirror_mode": {
    "name": "ipython",
    "version": 3
   },
   "file_extension": ".py",
   "mimetype": "text/x-python",
   "name": "python",
   "nbconvert_exporter": "python",
   "pygments_lexer": "ipython3",
   "version": "3.9.16"
  }
 },
 "nbformat": 4,
 "nbformat_minor": 2
}
