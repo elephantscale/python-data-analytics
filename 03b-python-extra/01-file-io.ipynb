{
 "cells": [
  {
   "cell_type": "markdown",
   "metadata": {},
   "source": [
    "# File IO"
   ]
  },
  {
   "cell_type": "markdown",
   "metadata": {},
   "source": [
    "## Reading from File\n",
    "\n",
    "if we use `with` clause, python will take care of closing the files properly after reading\n",
    "\n",
    "Open the file with `r` flag"
   ]
  },
  {
   "cell_type": "code",
   "execution_count": 5,
   "metadata": {},
   "outputs": [
    {
     "name": "stdout",
     "output_type": "stream",
     "text": [
      "Python's syntax sweet\n",
      "Easy to learn, easy to code\n",
      "Productive and fun\n"
     ]
    }
   ],
   "source": [
    "with open(\"example-1.txt\", \"r\") as f:\n",
    "    contents = f.read()\n",
    "print(contents)"
   ]
  },
  {
   "cell_type": "code",
   "execution_count": 6,
   "metadata": {},
   "outputs": [
    {
     "name": "stdout",
     "output_type": "stream",
     "text": [
      "1 Python's syntax sweet\n",
      "\n",
      "2 Easy to learn, easy to code\n",
      "\n",
      "3 Productive and fun\n"
     ]
    }
   ],
   "source": [
    "# to read line by line\n",
    "\n",
    "with open(\"example-1.txt\", \"r\") as f:\n",
    "    line_number = 0\n",
    "    for line in f:\n",
    "        line_number +=1\n",
    "        print(line_number, line)"
   ]
  },
  {
   "cell_type": "markdown",
   "metadata": {},
   "source": [
    "## Writing to file\n",
    "\n",
    "Open file with `w` flag"
   ]
  },
  {
   "cell_type": "code",
   "execution_count": 7,
   "metadata": {},
   "outputs": [],
   "source": [
    "contents = \"\"\"Hello world!\n",
    "\"\"\"\n",
    "with open(\"example-2.txt\", \"w\") as f:\n",
    "    f.write(contents)"
   ]
  },
  {
   "cell_type": "markdown",
   "metadata": {},
   "source": [
    "## Appending to a file\n",
    "\n",
    "Open the file with `a` flag"
   ]
  },
  {
   "cell_type": "code",
   "execution_count": 8,
   "metadata": {},
   "outputs": [],
   "source": [
    "## append to a file\n",
    "with open(\"example-2.txt\", \"a\") as f:\n",
    "    f.write(\"Goodbye, world!\")"
   ]
  },
  {
   "cell_type": "code",
   "execution_count": 9,
   "metadata": {},
   "outputs": [
    {
     "name": "stdout",
     "output_type": "stream",
     "text": [
      "Hello world!\n",
      "Goodbye, world!\n"
     ]
    }
   ],
   "source": [
    "# read the file to verify\n",
    "\n",
    "with open(\"example-2.txt\", \"r\") as f:\n",
    "    contents = f.read()\n",
    "print(contents)"
   ]
  }
 ],
 "metadata": {
  "kernelspec": {
   "display_name": "pyds",
   "language": "python",
   "name": "python3"
  },
  "language_info": {
   "codemirror_mode": {
    "name": "ipython",
    "version": 3
   },
   "file_extension": ".py",
   "mimetype": "text/x-python",
   "name": "python",
   "nbconvert_exporter": "python",
   "pygments_lexer": "ipython3",
   "version": "3.9.16"
  }
 },
 "nbformat": 4,
 "nbformat_minor": 2
}
