{
 "cells": [
  {
   "cell_type": "markdown",
   "metadata": {},
   "source": [
    "# Explore House Sales Data\n",
    "\n",
    "Let's explore the house sales data."
   ]
  },
  {
   "cell_type": "markdown",
   "metadata": {},
   "source": [
    "## Read and Display data"
   ]
  },
  {
   "cell_type": "code",
   "execution_count": 5,
   "metadata": {},
   "outputs": [
    {
     "name": "stdout",
     "output_type": "stream",
     "text": [
      "data_location: ../data/house-sales-simplified.csv\n"
     ]
    }
   ],
   "source": [
    "import os\n",
    "import urllib.request\n",
    "\n",
    "data_location = \"../data/house-sales-simplified.csv\"\n",
    "# data_url = 'https://elephantscale-public.s3.amazonaws.com/data/house-prices/house-sales-simplified.csv'\n",
    "# data_location = 'https://raw.githubusercontent.com/elephantscale/datasets/master/house-prices/house-sales-simplified.csv'\n",
    "data_url = 'https://raw.githubusercontent.com/elephantscale/datasets/master/house-prices/house-sales-simplified.csv'\n",
    "\n",
    "if not os.path.exists (data_location):\n",
    "    data_location = os.path.basename(data_location)\n",
    "    if not os.path.exists(data_location):\n",
    "        print(\"Downloading : \", data_url)\n",
    "        urllib.request.urlretrieve(data_url, data_location)\n",
    "print('data_location:', data_location)\n"
   ]
  },
  {
   "cell_type": "code",
   "execution_count": 6,
   "metadata": {},
   "outputs": [
    {
     "data": {
      "text/html": [
       "<div>\n",
       "<style scoped>\n",
       "    .dataframe tbody tr th:only-of-type {\n",
       "        vertical-align: middle;\n",
       "    }\n",
       "\n",
       "    .dataframe tbody tr th {\n",
       "        vertical-align: top;\n",
       "    }\n",
       "\n",
       "    .dataframe thead th {\n",
       "        text-align: right;\n",
       "    }\n",
       "</style>\n",
       "<table border=\"1\" class=\"dataframe\">\n",
       "  <thead>\n",
       "    <tr style=\"text-align: right;\">\n",
       "      <th></th>\n",
       "      <th>ID</th>\n",
       "      <th>Date</th>\n",
       "      <th>SalePrice</th>\n",
       "      <th>PropertyID</th>\n",
       "      <th>PropertyType</th>\n",
       "      <th>Bedrooms</th>\n",
       "      <th>Bathrooms</th>\n",
       "      <th>SqFtTotLiving</th>\n",
       "      <th>SqFtLot</th>\n",
       "      <th>YrBuilt</th>\n",
       "      <th>ZipCode</th>\n",
       "    </tr>\n",
       "  </thead>\n",
       "  <tbody>\n",
       "    <tr>\n",
       "      <th>0</th>\n",
       "      <td>1</td>\n",
       "      <td>9/16/14</td>\n",
       "      <td>280000</td>\n",
       "      <td>1000102</td>\n",
       "      <td>Multiplex</td>\n",
       "      <td>6</td>\n",
       "      <td>3.00</td>\n",
       "      <td>2400</td>\n",
       "      <td>9373</td>\n",
       "      <td>1991</td>\n",
       "      <td>98002</td>\n",
       "    </tr>\n",
       "    <tr>\n",
       "      <th>1</th>\n",
       "      <td>2</td>\n",
       "      <td>6/16/06</td>\n",
       "      <td>1000000</td>\n",
       "      <td>1200013</td>\n",
       "      <td>Single Family</td>\n",
       "      <td>4</td>\n",
       "      <td>3.75</td>\n",
       "      <td>3764</td>\n",
       "      <td>20156</td>\n",
       "      <td>2005</td>\n",
       "      <td>98166</td>\n",
       "    </tr>\n",
       "    <tr>\n",
       "      <th>2</th>\n",
       "      <td>3</td>\n",
       "      <td>1/29/07</td>\n",
       "      <td>745000</td>\n",
       "      <td>1200019</td>\n",
       "      <td>Single Family</td>\n",
       "      <td>4</td>\n",
       "      <td>1.75</td>\n",
       "      <td>2060</td>\n",
       "      <td>26036</td>\n",
       "      <td>1947</td>\n",
       "      <td>98166</td>\n",
       "    </tr>\n",
       "    <tr>\n",
       "      <th>3</th>\n",
       "      <td>4</td>\n",
       "      <td>2/25/08</td>\n",
       "      <td>425000</td>\n",
       "      <td>2800016</td>\n",
       "      <td>Single Family</td>\n",
       "      <td>5</td>\n",
       "      <td>3.75</td>\n",
       "      <td>3200</td>\n",
       "      <td>8618</td>\n",
       "      <td>1966</td>\n",
       "      <td>98168</td>\n",
       "    </tr>\n",
       "    <tr>\n",
       "      <th>4</th>\n",
       "      <td>5</td>\n",
       "      <td>3/29/13</td>\n",
       "      <td>240000</td>\n",
       "      <td>2800024</td>\n",
       "      <td>Single Family</td>\n",
       "      <td>4</td>\n",
       "      <td>1.75</td>\n",
       "      <td>1720</td>\n",
       "      <td>8620</td>\n",
       "      <td>1948</td>\n",
       "      <td>98168</td>\n",
       "    </tr>\n",
       "    <tr>\n",
       "      <th>...</th>\n",
       "      <td>...</td>\n",
       "      <td>...</td>\n",
       "      <td>...</td>\n",
       "      <td>...</td>\n",
       "      <td>...</td>\n",
       "      <td>...</td>\n",
       "      <td>...</td>\n",
       "      <td>...</td>\n",
       "      <td>...</td>\n",
       "      <td>...</td>\n",
       "      <td>...</td>\n",
       "    </tr>\n",
       "    <tr>\n",
       "      <th>27058</th>\n",
       "      <td>27059</td>\n",
       "      <td>10/31/12</td>\n",
       "      <td>374000</td>\n",
       "      <td>9895000030</td>\n",
       "      <td>Townhouse</td>\n",
       "      <td>2</td>\n",
       "      <td>1.75</td>\n",
       "      <td>1410</td>\n",
       "      <td>1161</td>\n",
       "      <td>2011</td>\n",
       "      <td>-1</td>\n",
       "    </tr>\n",
       "    <tr>\n",
       "      <th>27059</th>\n",
       "      <td>27060</td>\n",
       "      <td>12/7/12</td>\n",
       "      <td>374000</td>\n",
       "      <td>9895000040</td>\n",
       "      <td>Townhouse</td>\n",
       "      <td>2</td>\n",
       "      <td>1.75</td>\n",
       "      <td>1410</td>\n",
       "      <td>1005</td>\n",
       "      <td>2011</td>\n",
       "      <td>-1</td>\n",
       "    </tr>\n",
       "    <tr>\n",
       "      <th>27060</th>\n",
       "      <td>27061</td>\n",
       "      <td>7/9/12</td>\n",
       "      <td>165000</td>\n",
       "      <td>9899200010</td>\n",
       "      <td>Single Family</td>\n",
       "      <td>4</td>\n",
       "      <td>1.00</td>\n",
       "      <td>1070</td>\n",
       "      <td>11170</td>\n",
       "      <td>1971</td>\n",
       "      <td>98055</td>\n",
       "    </tr>\n",
       "    <tr>\n",
       "      <th>27061</th>\n",
       "      <td>27062</td>\n",
       "      <td>5/26/06</td>\n",
       "      <td>315000</td>\n",
       "      <td>9900000355</td>\n",
       "      <td>Single Family</td>\n",
       "      <td>3</td>\n",
       "      <td>2.00</td>\n",
       "      <td>1345</td>\n",
       "      <td>6223</td>\n",
       "      <td>1939</td>\n",
       "      <td>98166</td>\n",
       "    </tr>\n",
       "    <tr>\n",
       "      <th>27062</th>\n",
       "      <td>27063</td>\n",
       "      <td>1/9/07</td>\n",
       "      <td>465000</td>\n",
       "      <td>9906000035</td>\n",
       "      <td>Single Family</td>\n",
       "      <td>3</td>\n",
       "      <td>1.50</td>\n",
       "      <td>790</td>\n",
       "      <td>4400</td>\n",
       "      <td>1928</td>\n",
       "      <td>98103</td>\n",
       "    </tr>\n",
       "  </tbody>\n",
       "</table>\n",
       "<p>27063 rows × 11 columns</p>\n",
       "</div>"
      ],
      "text/plain": [
       "          ID      Date  SalePrice  PropertyID   PropertyType  Bedrooms  \\\n",
       "0          1   9/16/14     280000     1000102      Multiplex         6   \n",
       "1          2   6/16/06    1000000     1200013  Single Family         4   \n",
       "2          3   1/29/07     745000     1200019  Single Family         4   \n",
       "3          4   2/25/08     425000     2800016  Single Family         5   \n",
       "4          5   3/29/13     240000     2800024  Single Family         4   \n",
       "...      ...       ...        ...         ...            ...       ...   \n",
       "27058  27059  10/31/12     374000  9895000030      Townhouse         2   \n",
       "27059  27060   12/7/12     374000  9895000040      Townhouse         2   \n",
       "27060  27061    7/9/12     165000  9899200010  Single Family         4   \n",
       "27061  27062   5/26/06     315000  9900000355  Single Family         3   \n",
       "27062  27063    1/9/07     465000  9906000035  Single Family         3   \n",
       "\n",
       "       Bathrooms  SqFtTotLiving  SqFtLot  YrBuilt  ZipCode  \n",
       "0           3.00           2400     9373     1991    98002  \n",
       "1           3.75           3764    20156     2005    98166  \n",
       "2           1.75           2060    26036     1947    98166  \n",
       "3           3.75           3200     8618     1966    98168  \n",
       "4           1.75           1720     8620     1948    98168  \n",
       "...          ...            ...      ...      ...      ...  \n",
       "27058       1.75           1410     1161     2011       -1  \n",
       "27059       1.75           1410     1005     2011       -1  \n",
       "27060       1.00           1070    11170     1971    98055  \n",
       "27061       2.00           1345     6223     1939    98166  \n",
       "27062       1.50            790     4400     1928    98103  \n",
       "\n",
       "[27063 rows x 11 columns]"
      ]
     },
     "execution_count": 6,
     "metadata": {},
     "output_type": "execute_result"
    }
   ],
   "source": [
    "import numpy as np\n",
    "import pandas as pd\n",
    "\n",
    "house_prices = pd.read_csv(data_location)\n",
    "house_prices"
   ]
  },
  {
   "cell_type": "markdown",
   "metadata": {},
   "source": [
    "## 'Summary' of data\n",
    "\n",
    "Do you detect any outliers in the describe output below?   \n",
    "Hint : what is the largest number of bedrooms?  \n",
    "Any other outliers?"
   ]
  },
  {
   "cell_type": "code",
   "execution_count": null,
   "metadata": {},
   "outputs": [],
   "source": [
    "pd.options.display.float_format = '{:,.2f}'.format\n",
    "\n",
    "## TODO : use 'describe' function\n",
    "house_prices.???()"
   ]
  },
  {
   "cell_type": "markdown",
   "metadata": {},
   "source": [
    "## Get an idea of one attribute"
   ]
  },
  {
   "cell_type": "code",
   "execution_count": null,
   "metadata": {},
   "outputs": [],
   "source": [
    "## TODO : use describe on one column\n",
    "## Hint : 'SalePrice'\n",
    "\n",
    "house_prices[[\"???\"]].describe()"
   ]
  },
  {
   "cell_type": "markdown",
   "metadata": {},
   "source": [
    "## Report on Bedrooms vs Sales\n",
    "Let's calculte sales per bedrooms"
   ]
  },
  {
   "cell_type": "code",
   "execution_count": null,
   "metadata": {},
   "outputs": [],
   "source": [
    "## TODO : find sales by bedrooms\n",
    "## Hint : group by 'Bedrooms'\n",
    "bedroom_sales = house_prices.groupby(\"???\").size()\n",
    "bedroom_sales"
   ]
  },
  {
   "cell_type": "code",
   "execution_count": null,
   "metadata": {},
   "outputs": [],
   "source": [
    "## TODO: order by count top to bottom\n",
    "bedroom_sales.sort_values(ascending=False) "
   ]
  },
  {
   "cell_type": "markdown",
   "metadata": {},
   "source": [
    "## Filter Out Outliers\n",
    "Let's remove entries with more than 6 bedrooms."
   ]
  },
  {
   "cell_type": "code",
   "execution_count": null,
   "metadata": {},
   "outputs": [],
   "source": [
    "filtered = house_prices.loc [house_prices['Bedrooms'] < 6]\n",
    "print ('total records : ', house_prices.shape)\n",
    "print ('filtered records :', filtered.shape)\n",
    "filtered"
   ]
  },
  {
   "cell_type": "code",
   "execution_count": null,
   "metadata": {},
   "outputs": [],
   "source": [
    "## TODO : Filter houses under 5 bedrooms and less than 3 bathrooms\n",
    "\n",
    "filtered2 = house_prices.loc  [ (house_prices['???'] < 5) &\n",
    "                                (house_prices['???'] < 3)]\n",
    "filtered2"
   ]
  },
  {
   "cell_type": "markdown",
   "metadata": {},
   "source": [
    "## Calculate some percentiles"
   ]
  },
  {
   "cell_type": "code",
   "execution_count": null,
   "metadata": {},
   "outputs": [],
   "source": [
    "percentiles = (0.25, 0.5, 0.75, 0.9, 0.95)\n",
    "prices = house_prices['SalePrice'].quantile(percentiles)\n",
    "\n",
    "print(percentiles)\n",
    "print(prices)\n",
    "\n",
    "# get a Pandas dataframe for pretty print\n",
    "percentile_pricing_df = pd.DataFrame({\"percentile\": percentiles, \"price\": prices} )\n",
    "percentile_pricing_df"
   ]
  },
  {
   "cell_type": "markdown",
   "metadata": {},
   "source": [
    "## Correlation Matrix\n",
    "\n",
    "Q1 : Which attributes influences sale price more?  \n",
    "- Number of Bedrooms (\"Bedrooms\")\n",
    "- or size of the home (\"SqFtTotLiving\")\n",
    "\n",
    "Hint : calculate Correlation  df.corr()\n",
    "\n",
    "**Q=> Can you explain the result**"
   ]
  },
  {
   "cell_type": "code",
   "execution_count": null,
   "metadata": {},
   "outputs": [],
   "source": [
    "## TODO :  calculate correlation matrix\n",
    "## HInt : use 'corr' function\n",
    "## Can you interpret the matrix?\n",
    "\n",
    "house_prices.???() "
   ]
  },
  {
   "cell_type": "markdown",
   "metadata": {},
   "source": [
    "**==> Visualize correlation matrix**"
   ]
  },
  {
   "cell_type": "code",
   "execution_count": null,
   "metadata": {},
   "outputs": [],
   "source": [
    "import matplotlib.pyplot as plt\n",
    "%matplotlib inline\n",
    "import seaborn as sns\n",
    "\n",
    "f, ax = plt.subplots(figsize=(10, 10))\n",
    "sns.heatmap(house_prices.corr(),   vmax=1, # xticklabels=corr.columns,  yticklabels=corr.columns,\n",
    "            cmap='coolwarm', annot=True, annot_kws={'size': 10})\n",
    "# cmap = RdBu,  coolwarm, coolwarm_r , rocket, rocket_r, flare, flare_r\n",
    "# play with color palettes here : https://seaborn.pydata.org/tutorial/color_palettes.html"
   ]
  },
  {
   "cell_type": "markdown",
   "metadata": {},
   "source": [
    "## Bonus Lab : Find the most expensive zip codes\n",
    "We have data from many zip codes.  \n",
    "To find the most expensive zip code, let's first calculate  **price per sqft**"
   ]
  },
  {
   "cell_type": "code",
   "execution_count": null,
   "metadata": {},
   "outputs": [],
   "source": [
    "## Step 1 : calculate price per sqft\n",
    "## TODO : do the math, divide  house_prices['SalePrice'] by  house_prices['SqFtTotLiving']\n",
    "house_prices['price_per_sqft'] = house_prices['???'] / house_prices['???']\n",
    "house_prices"
   ]
  },
  {
   "cell_type": "code",
   "execution_count": null,
   "metadata": {},
   "outputs": [],
   "source": [
    "## TODO : Group data by zipcode and take the avg of price_per_sqft\n",
    "## Hint : groupby('ZipCode')\n",
    "zipcode_avg_price  = house_prices.groupby('???')['ZipCode', 'price_per_sqft'].mean()\n",
    "zipcode_avg_price"
   ]
  },
  {
   "cell_type": "code",
   "execution_count": null,
   "metadata": {},
   "outputs": [],
   "source": [
    "## Sort by 'price_per_sqft'. show top-10 zipcodes\n",
    "zipcode_avg_price['price_per_sqft'].nlargest(10)"
   ]
  }
 ],
 "metadata": {
  "kernelspec": {
   "display_name": "Python 3 (ipykernel)",
   "language": "python",
   "name": "python3"
  },
  "language_info": {
   "codemirror_mode": {
    "name": "ipython",
    "version": 3
   },
   "file_extension": ".py",
   "mimetype": "text/x-python",
   "name": "python",
   "nbconvert_exporter": "python",
   "pygments_lexer": "ipython3",
   "version": "3.9.16"
  }
 },
 "nbformat": 4,
 "nbformat_minor": 4
}
