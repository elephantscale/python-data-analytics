{
 "cells": [
  {
   "cell_type": "markdown",
   "id": "b18f9cdf",
   "metadata": {},
   "source": [
    "# AirBnB Analysis"
   ]
  },
  {
   "cell_type": "code",
   "execution_count": null,
   "id": "81b306a6",
   "metadata": {},
   "outputs": [],
   "source": [
    "# Import basic libraries\n",
    "import numpy as np \n",
    "import pandas as pd \n",
    "\n",
    "# import visualization libraries\n",
    "import seaborn as sns\n",
    "import matplotlib.pyplot as plt\n",
    "%matplotlib inline"
   ]
  },
  {
   "cell_type": "code",
   "execution_count": null,
   "id": "ed53288a",
   "metadata": {},
   "outputs": [],
   "source": [
    "# Airbnb data = https://www.kaggle.com/datasets/dgomonov/new-york-city-airbnb-open-data?select=AB_NYC_2019.csv\n",
    "\n",
    "data_location = '../data/AB_NYC_2019.csv'\n",
    "# data_location = 'https://github.com/elephantscale/datasets/blob/master/airbnb/AB_NYC_2019.csv?raw=true'\n",
    "\n",
    "data = pd.read_csv(data_location)"
   ]
  },
  {
   "cell_type": "code",
   "execution_count": null,
   "id": "10ca24e7",
   "metadata": {},
   "outputs": [],
   "source": [
    "data.sample(5)"
   ]
  },
  {
   "cell_type": "markdown",
   "id": "7f80f4b7",
   "metadata": {},
   "source": [
    "## Overall stats"
   ]
  },
  {
   "cell_type": "code",
   "execution_count": null,
   "id": "e080733e",
   "metadata": {},
   "outputs": [],
   "source": [
    "## Use info\n",
    "\n",
    "data.???()"
   ]
  },
  {
   "cell_type": "code",
   "execution_count": null,
   "id": "e4c98452",
   "metadata": {},
   "outputs": [],
   "source": [
    "## Use describe\n",
    "\n",
    "data.???()"
   ]
  },
  {
   "cell_type": "markdown",
   "id": "388d6e35",
   "metadata": {},
   "source": [
    "## Column specific analysis"
   ]
  },
  {
   "cell_type": "code",
   "execution_count": null,
   "id": "576eee53",
   "metadata": {},
   "outputs": [],
   "source": [
    "# which neighborhood is popular\n",
    "data['???'].value_counts()"
   ]
  },
  {
   "cell_type": "markdown",
   "id": "ee488883",
   "metadata": {},
   "source": [
    "## Correlation Matrix"
   ]
  },
  {
   "cell_type": "code",
   "execution_count": null,
   "id": "6b644115",
   "metadata": {},
   "outputs": [],
   "source": [
    "# remove non siginificant numeric columns\n",
    "data2 = data.drop(['id', 'host_id', 'latitude', 'longitude'], axis=1)\n",
    "corr_matrix = data2.corr()\n",
    "corr_matrix"
   ]
  },
  {
   "cell_type": "code",
   "execution_count": null,
   "id": "83a37129",
   "metadata": {},
   "outputs": [],
   "source": [
    "f, ax = plt.subplots(figsize=(12, 10))\n",
    "\n",
    "### supply 'corr_matrix' as first arg\n",
    "sns.heatmap(???,   vmax=1, # xticklabels=corr.columns,  yticklabels=corr.columns,\n",
    "            cmap='coolwarm', annot=True, annot_kws={'size': 10})\n",
    "# cmap = RdBu,  coolwarm, coolwarm_r , rocket, rocket_r, flare, flare_r\n",
    "# play with color palettes here : https://seaborn.pydata.org/tutorial/color_palettes.html"
   ]
  },
  {
   "cell_type": "code",
   "execution_count": null,
   "id": "51063f06",
   "metadata": {},
   "outputs": [],
   "source": []
  }
 ],
 "metadata": {
  "kernelspec": {
   "display_name": "Python 3 (ipykernel)",
   "language": "python",
   "name": "python3"
  },
  "language_info": {
   "codemirror_mode": {
    "name": "ipython",
    "version": 3
   },
   "file_extension": ".py",
   "mimetype": "text/x-python",
   "name": "python",
   "nbconvert_exporter": "python",
   "pygments_lexer": "ipython3",
   "version": "3.9.16"
  }
 },
 "nbformat": 4,
 "nbformat_minor": 5
}
