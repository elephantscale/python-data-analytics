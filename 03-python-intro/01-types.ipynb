{
 "cells": [
  {
   "cell_type": "markdown",
   "metadata": {
    "pycharm": {
     "name": "#%% md\n"
    }
   },
   "source": [
    "# Learning Python"
   ]
  },
  {
   "cell_type": "markdown",
   "metadata": {
    "pycharm": {
     "name": "#%% md\n"
    }
   },
   "source": [
    "\n",
    "## 1 - Python Types\n",
    "\n",
    "Welcome to Learning Python. Here, we will learn the basics of python in a convenient notebook format.\n",
    "\n",
    "Python, like most languages, has types. As a dynamic language, Python has \"duck typing”, which means that variable types can be inferred by their usage and don't have to be declared.\n",
    "\n",
    "<img src=\"../assets/images/duck-typing.jpg\" />"
   ]
  },
  {
   "cell_type": "markdown",
   "metadata": {},
   "source": [
    "## 2 - Declaring Variables\n",
    "\n",
    "In language like Java, we will declare types excplicitly\n",
    "\n",
    "```java\n",
    "int i = 10;\n",
    "```\n",
    "\n",
    "But in Python, we don't need to declare types expclitly\n",
    "\n",
    "```python\n",
    "i = 10\n",
    "```\n",
    "\n",
    "Oh, and no need for ; either"
   ]
  },
  {
   "cell_type": "code",
   "execution_count": 1,
   "metadata": {},
   "outputs": [
    {
     "name": "stdout",
     "output_type": "stream",
     "text": [
      "<class 'int'>\n",
      "<class 'float'>\n",
      "<class 'str'>\n"
     ]
    }
   ],
   "source": [
    "## Declare a few variables and print their types\n",
    "\n",
    "a = 10\n",
    "b = 3.14\n",
    "c = \"hi\"\n",
    "\n",
    "print (type(a))\n",
    "print (type(b))\n",
    "print (type(c))"
   ]
  },
  {
   "cell_type": "code",
   "execution_count": 2,
   "metadata": {},
   "outputs": [
    {
     "name": "stdout",
     "output_type": "stream",
     "text": [
      "<class 'str'>\n"
     ]
    }
   ],
   "source": [
    "## now reassign a\n",
    "\n",
    "a = \"hello world\"  # <-- this would be error in compiled languages like Java!\n",
    "\n",
    "print (type(a))"
   ]
  },
  {
   "cell_type": "markdown",
   "metadata": {
    "pycharm": {
     "name": "#%% md\n"
    }
   },
   "source": [
    "## 3 - Strings\n",
    "\n",
    "### 3.1 - Defining Strings\n",
    "\n",
    "We all know what strings are.  We can store strings with **single or double quotes**. There is no difference."
   ]
  },
  {
   "cell_type": "code",
   "execution_count": null,
   "metadata": {
    "pycharm": {
     "name": "#%%\n"
    }
   },
   "outputs": [],
   "source": [
    "a = 'hello world!'\n",
    "print (a)\n",
    "print (a[1:3])"
   ]
  },
  {
   "cell_type": "code",
   "execution_count": 24,
   "metadata": {},
   "outputs": [
    {
     "name": "stdout",
     "output_type": "stream",
     "text": [
      "\n",
      "SELECT COUNT(*)\n",
      "FROM table1\n",
      "WHERE x > 0\n",
      "\n"
     ]
    }
   ],
   "source": [
    "# multiline strings are very handy\n",
    "\n",
    "sql = \"\"\"\n",
    "SELECT COUNT(*)\n",
    "FROM table1\n",
    "WHERE x > 0\n",
    "\"\"\"\n",
    "\n",
    "print (sql)"
   ]
  },
  {
   "cell_type": "code",
   "execution_count": null,
   "metadata": {
    "pycharm": {
     "name": "#%%\n"
    }
   },
   "outputs": [],
   "source": [
    "#Now you try! Make some strings and watch what the results are."
   ]
  },
  {
   "cell_type": "markdown",
   "metadata": {},
   "source": [
    "### 3.2 - Joining Strings"
   ]
  },
  {
   "cell_type": "code",
   "execution_count": 25,
   "metadata": {},
   "outputs": [
    {
     "name": "stdout",
     "output_type": "stream",
     "text": [
      "helloworld\n"
     ]
    }
   ],
   "source": [
    "s1 = \"hello\"\n",
    "s2 = 'world'\n",
    "\n",
    "s3 = s1 + s2\n",
    "print (s3)"
   ]
  },
  {
   "cell_type": "code",
   "execution_count": null,
   "metadata": {},
   "outputs": [],
   "source": [
    "## TODO: Now add a space between these two words\n",
    "s3 = s1 + ??? + s2\n",
    "print (s3)"
   ]
  },
  {
   "cell_type": "code",
   "execution_count": 27,
   "metadata": {},
   "outputs": [
    {
     "name": "stdout",
     "output_type": "stream",
     "text": [
      "s1: hello , s2: world\n"
     ]
    }
   ],
   "source": [
    "# You can print like this too\n",
    "\n",
    "print (\"s1:\", s1 , \", s2:\", s2)"
   ]
  },
  {
   "cell_type": "markdown",
   "metadata": {},
   "source": [
    "### 3.3 - String Format\n",
    "\n",
    "[Good reference](https://realpython.com/python-string-formatting/)\n",
    "\n",
    "#### `str.format` function\n",
    "\n",
    "Very handy"
   ]
  },
  {
   "cell_type": "code",
   "execution_count": 29,
   "metadata": {},
   "outputs": [
    {
     "name": "stdout",
     "output_type": "stream",
     "text": [
      "Hello John\n",
      "John is 40 years old\n"
     ]
    }
   ],
   "source": [
    "name = 'John'\n",
    "age = 40\n",
    "\n",
    "print (\"Hello {}\".format(name))\n",
    "print (\"{} is {} years old\".format (name, age))"
   ]
  },
  {
   "cell_type": "code",
   "execution_count": null,
   "metadata": {},
   "outputs": [],
   "source": [
    "## TODO: Define another variable 'city'\n",
    "## And print  \"John is 40 years old and lives in San Jose\""
   ]
  },
  {
   "cell_type": "markdown",
   "metadata": {},
   "source": [
    "#### `f-strings`\n",
    "\n",
    "This is very handy as well.  We can use variables within strings!"
   ]
  },
  {
   "cell_type": "code",
   "execution_count": 31,
   "metadata": {},
   "outputs": [
    {
     "name": "stdout",
     "output_type": "stream",
     "text": [
      "Hello John\n",
      "John is 40 years old\n"
     ]
    }
   ],
   "source": [
    "# Note, strings have to start with f\n",
    "\n",
    "name = 'John'\n",
    "age = 40\n",
    "\n",
    "print (f'Hello {name}')\n",
    "print (f'{name} is {age} years old')"
   ]
  },
  {
   "cell_type": "code",
   "execution_count": null,
   "metadata": {},
   "outputs": [],
   "source": [
    "## TODO: Define another variable 'city'\n",
    "## And print  \"John is 40 years old and lives in San Jose\""
   ]
  },
  {
   "cell_type": "markdown",
   "metadata": {},
   "source": [
    "## 4 - Type Conversion"
   ]
  },
  {
   "cell_type": "code",
   "execution_count": 5,
   "metadata": {},
   "outputs": [
    {
     "name": "stdout",
     "output_type": "stream",
     "text": [
      "8\n",
      "<class 'str'>\n"
     ]
    }
   ],
   "source": [
    "s1 = \"8\"\n",
    "print (s1)\n",
    "print (type(s1))  # should be str"
   ]
  },
  {
   "cell_type": "code",
   "execution_count": 4,
   "metadata": {},
   "outputs": [
    {
     "name": "stdout",
     "output_type": "stream",
     "text": [
      "8\n",
      "<class 'int'>\n"
     ]
    }
   ],
   "source": [
    "## Now let's convert it into a number\n",
    "a = int(s1)\n",
    "print (a)\n",
    "print (type(a))"
   ]
  },
  {
   "cell_type": "code",
   "execution_count": 7,
   "metadata": {},
   "outputs": [
    {
     "name": "stdout",
     "output_type": "stream",
     "text": [
      "3\n",
      "<class 'int'>\n"
     ]
    }
   ],
   "source": [
    "## What happens here\n",
    "b = int(3.14)\n",
    "print (b)\n",
    "print (type(b))"
   ]
  },
  {
   "cell_type": "markdown",
   "metadata": {},
   "source": [
    "## 5 - Formatting Numbers\n",
    "\n",
    "Use `format` function. Here are some use cases"
   ]
  },
  {
   "cell_type": "markdown",
   "metadata": {},
   "source": [
    "### 5.1 Formatting Integers"
   ]
  },
  {
   "cell_type": "code",
   "execution_count": 10,
   "metadata": {},
   "outputs": [
    {
     "name": "stdout",
     "output_type": "stream",
     "text": [
      "123\n",
      "1,234\n",
      "123,456,789\n"
     ]
    }
   ],
   "source": [
    "# format with thousand seperator\n",
    "\n",
    "print ('{:,}'.format(123))\n",
    "print ('{:,}'.format(1234))\n",
    "print ('{:,}'.format(123456789))"
   ]
  },
  {
   "cell_type": "markdown",
   "metadata": {},
   "source": [
    "### 5.2 - Formatting Floats"
   ]
  },
  {
   "cell_type": "code",
   "execution_count": 19,
   "metadata": {},
   "outputs": [
    {
     "name": "stdout",
     "output_type": "stream",
     "text": [
      "3.141592653589793\n",
      "3.142\n",
      "3.1\n",
      "3\n"
     ]
    }
   ],
   "source": [
    "# Print to certain decimal places\n",
    "import math\n",
    "\n",
    "# print the whole PI\n",
    "print (math.pi)\n",
    "\n",
    "# only 3 decimal places\n",
    "print ('{:.3f}'.format (math.pi))\n",
    "\n",
    "# only 1 decimal places\n",
    "print ('{:.1f}'.format (math.pi))\n",
    "\n",
    "# only no decimal places\n",
    "print ('{:.0f}'.format (math.pi))"
   ]
  },
  {
   "cell_type": "markdown",
   "metadata": {},
   "source": [
    "### 5.3 - Combine both"
   ]
  },
  {
   "cell_type": "code",
   "execution_count": 21,
   "metadata": {},
   "outputs": [
    {
     "name": "stdout",
     "output_type": "stream",
     "text": [
      "13,456,789.54\n"
     ]
    }
   ],
   "source": [
    "n = 13456789.54321\n",
    "\n",
    "print ('{:,.2f}'.format(n))"
   ]
  },
  {
   "cell_type": "code",
   "execution_count": 23,
   "metadata": {},
   "outputs": [],
   "source": [
    "## TODO: Just print the above as a whole number without decimal points\n",
    "\n",
    "### ???"
   ]
  },
  {
   "cell_type": "code",
   "execution_count": null,
   "metadata": {
    "pycharm": {
     "name": "#%%\n"
    }
   },
   "outputs": [],
   "source": []
  }
 ],
 "metadata": {
  "kernelspec": {
   "display_name": "Python 3 (ipykernel)",
   "language": "python",
   "name": "python3"
  },
  "language_info": {
   "codemirror_mode": {
    "name": "ipython",
    "version": 3
   },
   "file_extension": ".py",
   "mimetype": "text/x-python",
   "name": "python",
   "nbconvert_exporter": "python",
   "pygments_lexer": "ipython3",
   "version": "3.8.16"
  }
 },
 "nbformat": 4,
 "nbformat_minor": 4
}
