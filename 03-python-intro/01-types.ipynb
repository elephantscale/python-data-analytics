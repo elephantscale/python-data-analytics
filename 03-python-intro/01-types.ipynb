{
 "cells": [
  {
   "cell_type": "markdown",
   "metadata": {
    "pycharm": {
     "name": "#%% md\n"
    }
   },
   "source": [
    "# Learning Python"
   ]
  },
  {
   "cell_type": "markdown",
   "metadata": {
    "pycharm": {
     "name": "#%% md\n"
    }
   },
   "source": [
    "\n",
    "### Introduction\n",
    "\n",
    "Welcome to Learning Python. Here, we will learn the basics of python in a convenient notebook format.\n",
    "\n",
    "Remember, to RUN a cell, click in the cell and either press the “play” button on top or control-enter."
   ]
  },
  {
   "cell_type": "markdown",
   "metadata": {
    "pycharm": {
     "name": "#%% md\n"
    }
   },
   "source": [
    "### Python Types\n",
    "\n",
    "Python, like most languages, has types. As a dynamic language, Python has \"duck typing”, which means that variable types can be inferred by their usage and don't have to be declared.\n",
    "\n",
    "<img src=\"../assets/images/duck-typing.jpg\" />"
   ]
  },
  {
   "cell_type": "code",
   "execution_count": null,
   "metadata": {
    "pycharm": {
     "name": "#%%\n"
    }
   },
   "outputs": [],
   "source": [
    "val1 = 1  # Integer\n",
    "val2 = 1.2 # float\n",
    "val3 = 1 + 3j #complex number\n",
    "\n",
    "#let's print out the types\n",
    "print(type(val1))  #should be integer\n",
    "print(type(val2))  #should be float\n",
    "print(type(val3)) #should be complex\n",
    "\n",
    "#Run this block to see if we are right."
   ]
  },
  {
   "cell_type": "markdown",
   "metadata": {
    "pycharm": {
     "name": "#%% md\n"
    }
   },
   "source": [
    "### Strings\n",
    "\n",
    "We all know what strings are.  We can store strings with single or double quotes. There is no difference."
   ]
  },
  {
   "cell_type": "code",
   "execution_count": null,
   "metadata": {
    "pycharm": {
     "name": "#%%\n"
    }
   },
   "outputs": [],
   "source": [
    "a = 'hello world!'\n",
    "print (a)\n",
    "print (a[1:3])"
   ]
  },
  {
   "cell_type": "code",
   "execution_count": null,
   "metadata": {
    "pycharm": {
     "name": "#%%\n"
    }
   },
   "outputs": [],
   "source": [
    "#Now you try! Make some strings and watch what the results are."
   ]
  },
  {
   "cell_type": "markdown",
   "metadata": {
    "pycharm": {
     "name": "#%% md\n"
    }
   },
   "source": [
    "### Lists\n",
    "\n",
    "Lists are surrounded by square brackets.  They are an ordered sequence."
   ]
  },
  {
   "cell_type": "code",
   "execution_count": null,
   "metadata": {
    "pycharm": {
     "name": "#%%\n"
    }
   },
   "outputs": [],
   "source": [
    "mylist = ['abc', 1, 2.5]\n",
    "print (mylist[0])\n",
    "print (mylist[1:])"
   ]
  },
  {
   "cell_type": "code",
   "execution_count": null,
   "metadata": {
    "pycharm": {
     "name": "#%%\n"
    }
   },
   "outputs": [],
   "source": [
    "#Now you try! Make some lists and watch what the results are."
   ]
  },
  {
   "cell_type": "markdown",
   "metadata": {
    "pycharm": {
     "name": "#%% md\n"
    }
   },
   "source": [
    "Lists are able to function like arrays in other languages, except that they allow you to do things like inserts and deletions.\n",
    "\n",
    "We are going to learn later about arrays and matrices in the numpy package which will be very fast for heavy number crunching."
   ]
  },
  {
   "cell_type": "markdown",
   "metadata": {
    "pycharm": {
     "name": "#%% md\n"
    }
   },
   "source": [
    "### Tuples\n",
    "\n",
    "Tuples are a bit like lists, but they are immutable, which means the \n",
    "values, ordering, and other things can't be changed.  The name tuple\n",
    "comes from quadruple, quntule, etc."
   ]
  },
  {
   "cell_type": "code",
   "execution_count": null,
   "metadata": {
    "pycharm": {
     "name": "#%%\n"
    }
   },
   "outputs": [],
   "source": [
    "mytuple = (1, 'hi', 2.5)\n",
    "mytuple[1] = 'bye'  # ERROR!  Can't change tuple value\n",
    "\n",
    "print (mytuple[1])"
   ]
  },
  {
   "cell_type": "markdown",
   "metadata": {
    "pycharm": {
     "name": "#%% md\n"
    }
   },
   "source": [
    "### Dictionaries\n",
    "These are key-value pairs, similar to maps, hashes, or associative arrays in other languages.\n"
   ]
  },
  {
   "cell_type": "code",
   "execution_count": null,
   "metadata": {
    "pycharm": {
     "name": "#%%\n"
    }
   },
   "outputs": [],
   "source": [
    "d1 = {} #This is an empty dictionary\n",
    "d1['one'] = 1  #assignment\n",
    "d1['two']  = 2\n",
    "print (d1)"
   ]
  },
  {
   "cell_type": "code",
   "execution_count": null,
   "metadata": {},
   "outputs": [],
   "source": [
    "d2 = {'name':'Tim', 'address':'123 Main Street', 'city':'Seattle'}\n",
    "\n",
    "# just print the keys\n",
    "print (d2.keys())"
   ]
  },
  {
   "cell_type": "code",
   "execution_count": null,
   "metadata": {},
   "outputs": [],
   "source": [
    "# just print values\n",
    "d2.values()"
   ]
  },
  {
   "cell_type": "code",
   "execution_count": null,
   "metadata": {},
   "outputs": [],
   "source": [
    "## nested dict\n",
    "\n",
    "d3 = {}\n",
    "d3['name'] = 'Tim'\n",
    "d3['address'] = {}\n",
    "d3['address']['street'] = \"123 Main Street\"\n",
    "d3['address']['city'] = \"Seattle\"\n",
    "d3['address']['state'] = \"Washington\"\n",
    "\n",
    "d3"
   ]
  },
  {
   "cell_type": "code",
   "execution_count": null,
   "metadata": {},
   "outputs": [],
   "source": [
    "## Pretty print nested dictionaries\n",
    "\n",
    "import pprint\n",
    "pprint.pprint (d3, indent=4)"
   ]
  },
  {
   "cell_type": "markdown",
   "metadata": {},
   "source": [
    "### Getting Default values from Dictionaries\n",
    "\n",
    "A good defensive style program can deal with missing values..."
   ]
  },
  {
   "cell_type": "code",
   "execution_count": null,
   "metadata": {},
   "outputs": [],
   "source": [
    "d = {}\n",
    "d ['name'] = 'Tim'\n",
    "print (d['name'])\n",
    "print (d['age'])  # <--- key error"
   ]
  },
  {
   "cell_type": "code",
   "execution_count": null,
   "metadata": {},
   "outputs": [],
   "source": [
    "# instead do this!\n",
    "## use 'get' function with a default value\n",
    "d = {}\n",
    "d ['name'] = 'Tim'\n",
    "print (\"name:\" , d.get ('name', 'Unknown'))\n",
    "print (\"age:\", d.get ('age', 'Unknown'))"
   ]
  },
  {
   "cell_type": "markdown",
   "metadata": {},
   "source": [
    "## Sets\n",
    "\n",
    "Sets are like lists, except\n",
    "\n",
    "- they are unordered\n",
    "- no duplicates allowed"
   ]
  },
  {
   "cell_type": "code",
   "execution_count": null,
   "metadata": {},
   "outputs": [],
   "source": [
    "s1 = set([\"a\", \"b\", \"c\", \"a\"])\n",
    "s1 # note only one 'a'!"
   ]
  },
  {
   "cell_type": "markdown",
   "metadata": {},
   "source": [
    "## Practice\n",
    "\n",
    "Now it is your turn. Try creating some dictionaries, lists, and tuples."
   ]
  },
  {
   "cell_type": "code",
   "execution_count": null,
   "metadata": {},
   "outputs": [],
   "source": [
    "## play ground"
   ]
  },
  {
   "cell_type": "markdown",
   "metadata": {},
   "source": [
    "## Exercise 1\n",
    "\n",
    "Create a record of a person (you) using all the data structures we learned.  Here is a sample\n",
    "\n",
    "* Name : String\n",
    "* Age : Int\n",
    "* Height: float\n",
    "* Address : a  dictionary\n",
    "   * Street : String (\"123 Main St\")\n",
    "   * City : String (\"Seattle\")\n",
    "* Phones : a list ('123', '456', '789') -- can we have dupes here?\n",
    "* Email : a set ('tim@gmail.com',  'tim@company.com')  -- can we have dupes here?\n",
    "* Social : a dict {'twitter' : '@tim', 'facebook' : 'fb' ...}  -- can we have dupes here?"
   ]
  },
  {
   "cell_type": "code",
   "execution_count": null,
   "metadata": {},
   "outputs": [],
   "source": [
    "# here is some starter code\n",
    "\n",
    "person = {}\n",
    "person['name'] = 'Tim'\n",
    "# ... add other things..\n",
    "person['phones'] = ['123', '456', '789']\n",
    "\n",
    "person"
   ]
  },
  {
   "cell_type": "code",
   "execution_count": null,
   "metadata": {
    "pycharm": {
     "name": "#%%\n"
    }
   },
   "outputs": [],
   "source": []
  }
 ],
 "metadata": {
  "kernelspec": {
   "display_name": "Python 3 (ipykernel)",
   "language": "python",
   "name": "python3"
  },
  "language_info": {
   "codemirror_mode": {
    "name": "ipython",
    "version": 3
   },
   "file_extension": ".py",
   "mimetype": "text/x-python",
   "name": "python",
   "nbconvert_exporter": "python",
   "pygments_lexer": "ipython3",
   "version": "3.8.16"
  }
 },
 "nbformat": 4,
 "nbformat_minor": 4
}
