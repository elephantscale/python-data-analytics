{
 "cells": [
  {
   "cell_type": "markdown",
   "metadata": {
    "pycharm": {
     "name": "#%% md\n"
    }
   },
   "source": [
    "# Lab : Python Conditionals"
   ]
  },
  {
   "cell_type": "markdown",
   "metadata": {
    "pycharm": {
     "name": "#%% md\n"
    }
   },
   "source": [
    "\n",
    "## Introduction\n",
    "\n",
    "Python is unlike other languages in that \n",
    "\n",
    "- it has blocks delimited by indentation / whitespace rather than curly braces\n",
    "- It doesn't use '&&'  /  '||' .  Instead uses 'and' and 'or'\n",
    "- very expressive\n"
   ]
  },
  {
   "cell_type": "code",
   "execution_count": null,
   "metadata": {
    "collapsed": false,
    "jupyter": {
     "outputs_hidden": false
    },
    "pycharm": {
     "is_executing": true,
     "name": "#%%\n"
    }
   },
   "outputs": [],
   "source": [
    "a = 2\n",
    "\n",
    "if a < 1:\n",
    "    print(\"less than one\")\n",
    "elif a >= 1 and a < 2:\n",
    "    print(\"between one and two\")\n",
    "else:\n",
    "    print(\"greater than 2\")"
   ]
  },
  {
   "cell_type": "markdown",
   "metadata": {
    "pycharm": {
     "name": "#%% md\n"
    }
   },
   "source": [
    "You can simplify complicated if conditions\n",
    "for e.g. `a >= 1 and a < 2` can be converted to `1 <= a < 2`"
   ]
  },
  {
   "cell_type": "code",
   "execution_count": null,
   "metadata": {
    "collapsed": false,
    "jupyter": {
     "outputs_hidden": false
    },
    "pycharm": {
     "is_executing": true,
     "name": "#%%\n"
    }
   },
   "outputs": [],
   "source": [
    "a = 1\n",
    "if a < 1:\n",
    "    print(\"less than one\")\n",
    "elif 1 <= a < 2:\n",
    "    print(\"between one and two\")\n",
    "else:\n",
    "    print(\"greater than 2\")"
   ]
  },
  {
   "cell_type": "code",
   "execution_count": null,
   "metadata": {
    "pycharm": {
     "name": "#%%\n"
    }
   },
   "outputs": [],
   "source": [
    "# Let's define some values.\n",
    "\n",
    "x = 2\n",
    "y = 3\n",
    "z = 4"
   ]
  },
  {
   "cell_type": "markdown",
   "metadata": {},
   "source": [
    "## Not Conditions"
   ]
  },
  {
   "cell_type": "code",
   "execution_count": 1,
   "metadata": {},
   "outputs": [
    {
     "name": "stdout",
     "output_type": "stream",
     "text": [
      "a is NOT greater than b\n"
     ]
    }
   ],
   "source": [
    "a = 10\n",
    "b = 20\n",
    "\n",
    "if not a > b: \n",
    "    print ('a is NOT greater than b')"
   ]
  },
  {
   "cell_type": "markdown",
   "metadata": {},
   "source": [
    "### Exercise"
   ]
  },
  {
   "cell_type": "markdown",
   "metadata": {
    "pycharm": {
     "name": "#%% md\n"
    }
   },
   "source": [
    "How would you write a block of code that does the following:\n",
    "\n",
    "1. Prints \"x\" if x is the largest value\n",
    "2. Prints \"y\" if y is the largest value\n",
    "3. prints \"z\" if z is the largest value"
   ]
  },
  {
   "cell_type": "code",
   "execution_count": null,
   "metadata": {
    "pycharm": {
     "name": "#%%\n"
    }
   },
   "outputs": [],
   "source": [
    "# TODO Find maximum value / Student's bonus task"
   ]
  },
  {
   "cell_type": "markdown",
   "metadata": {
    "pycharm": {
     "name": "#%% md\n"
    }
   },
   "source": [
    "### One liners\n",
    "\n",
    "Python doesn't have Java's ternary conditional operator\n",
    "\n",
    "```java\n",
    "max = (a > b) ? a : b; // This is java\n",
    "```\n",
    "\n",
    "What it does have a bit more readable.\n",
    "\n",
    "```python\n",
    "max = a if (a > b) else b # Python\n",
    "```"
   ]
  },
  {
   "cell_type": "code",
   "execution_count": null,
   "metadata": {
    "collapsed": false,
    "jupyter": {
     "outputs_hidden": false
    },
    "pycharm": {
     "is_executing": true,
     "name": "#%%\n"
    }
   },
   "outputs": [],
   "source": [
    "a = 10\n",
    "b = 15\n",
    "max = a if (a > b) else b\n",
    "max"
   ]
  },
  {
   "cell_type": "markdown",
   "metadata": {},
   "source": [
    "## String Comparisons"
   ]
  },
  {
   "cell_type": "code",
   "execution_count": null,
   "metadata": {
    "pycharm": {
     "is_executing": true,
     "name": "#%%\n"
    }
   },
   "outputs": [],
   "source": [
    "correct_password = \"spam\"\n",
    "password = \"ham\"\n",
    "\n",
    "#How would we print “Correct” if password is correct and incorrect otherwise?\n",
    "\n",
    "if correct_password == password :\n",
    "    print (\"Correct\")\n",
    "else:\n",
    "    print (\"Incorrect\")"
   ]
  },
  {
   "cell_type": "markdown",
   "metadata": {},
   "source": [
    "## More String\n",
    "\n",
    "Here we see if a string contains another string"
   ]
  },
  {
   "cell_type": "code",
   "execution_count": null,
   "metadata": {},
   "outputs": [],
   "source": [
    "s1 = \"hello\"\n",
    "s2 = \"hello world\"\n",
    "\n",
    "if s1 in s2:\n",
    "    print ('yes')\n",
    "else:\n",
    "    print ('no')\n",
    "    \n",
    "# now play with s1 and s2, change them, and run the code and see what you get"
   ]
  },
  {
   "cell_type": "markdown",
   "metadata": {},
   "source": [
    "## Checking for Null / Empty\n",
    "\n",
    "In Python the NULL is denoted by `None`"
   ]
  },
  {
   "cell_type": "code",
   "execution_count": null,
   "metadata": {},
   "outputs": [],
   "source": [
    "a = None\n",
    "# a = 1\n",
    "# a = \"hi\"\n",
    "# a = \"\"\n",
    "# a = True\n",
    "# a = False\n",
    "\n",
    "if a:\n",
    "    print (\"not null\")\n",
    "else:\n",
    "    print (\"null\")\n",
    "    \n",
    "## TODO: now uncomment other values of 'a' and see which ones evaluate to null"
   ]
  },
  {
   "cell_type": "markdown",
   "metadata": {},
   "source": [
    "### Not"
   ]
  },
  {
   "cell_type": "code",
   "execution_count": 2,
   "metadata": {},
   "outputs": [
    {
     "name": "stdout",
     "output_type": "stream",
     "text": [
      "s is not empty\n"
     ]
    }
   ],
   "source": [
    "s = ''\n",
    "\n",
    "if not s:\n",
    "    print ('s is not empty')\n"
   ]
  },
  {
   "cell_type": "code",
   "execution_count": null,
   "metadata": {},
   "outputs": [],
   "source": [
    "# here is a handy loop\n",
    "## TODO: add more values to the loop and see what you get\n",
    "\n",
    "for a in [None, 1, 'hi', '', True, False, []]:\n",
    "    print ('a:', a)\n",
    "    if a:\n",
    "        print (\"not null\")\n",
    "    else:\n",
    "        print (\"null\")\n",
    "    print()"
   ]
  },
  {
   "cell_type": "markdown",
   "metadata": {},
   "source": [
    "## Exercise\n",
    "\n",
    "Write a simple password checker.\n",
    "\n",
    "- if the password is less than 5 charectors, print out 'too short'\n",
    "- if password length is more than 20, print out 'too long'\n",
    "- if the password doesn't have a ! in it, print 'need an exclamation'\n",
    "\n",
    "**BONUS**\n",
    "\n",
    "- if the password string has the word 'password' in it, print 'try another one' :-)\n"
   ]
  },
  {
   "cell_type": "code",
   "execution_count": 11,
   "metadata": {},
   "outputs": [
    {
     "name": "stdout",
     "output_type": "stream",
     "text": [
      "too short\n"
     ]
    }
   ],
   "source": [
    "password = 'abc'\n",
    "\n",
    "if len(password) < 5:\n",
    "    print ('too short')\n",
    "## TODO: complete the code here"
   ]
  },
  {
   "cell_type": "code",
   "execution_count": null,
   "metadata": {},
   "outputs": [],
   "source": []
  }
 ],
 "metadata": {
  "kernelspec": {
   "display_name": "Python 3 (ipykernel)",
   "language": "python",
   "name": "python3"
  },
  "language_info": {
   "codemirror_mode": {
    "name": "ipython",
    "version": 3
   },
   "file_extension": ".py",
   "mimetype": "text/x-python",
   "name": "python",
   "nbconvert_exporter": "python",
   "pygments_lexer": "ipython3",
   "version": "3.9.16"
  }
 },
 "nbformat": 4,
 "nbformat_minor": 4
}
