{
 "cells": [
  {
   "cell_type": "markdown",
   "id": "958e895a-a6d7-46f3-b238-335f1b694b90",
   "metadata": {},
   "source": [
    "# Comprehensions\n",
    "\n",
    "Comprehensions are very powerful constructructs in Python.  Let's take a look at these quick."
   ]
  },
  {
   "cell_type": "markdown",
   "id": "b0e62f28-de47-4729-bc59-ebec6449263e",
   "metadata": {},
   "source": [
    "## 1 - Build a list of squares\n",
    "\n",
    "### 1.1 : Standard for loop\n",
    "\n",
    "This works but not as compact"
   ]
  },
  {
   "cell_type": "code",
   "execution_count": null,
   "id": "11b244d3-640c-4717-a7a1-d57a19a04a64",
   "metadata": {},
   "outputs": [],
   "source": [
    "a = [1,2,3,4,5]\n",
    "print (a)\n",
    "a_sq = []\n",
    "\n",
    "for x in a:\n",
    "    a_sq.append(x*x)\n",
    "   \n",
    "print (a_sq)"
   ]
  },
  {
   "cell_type": "markdown",
   "id": "2153a0e3-8bba-4b2b-920e-320a54714959",
   "metadata": {},
   "source": [
    "### 1.2 - Use list comprehension"
   ]
  },
  {
   "cell_type": "code",
   "execution_count": null,
   "id": "9e14645b-6d5c-49fd-b3e8-9209ff010012",
   "metadata": {},
   "outputs": [],
   "source": [
    "a = [1,2,3,4,5]\n",
    "print (a)\n",
    "\n",
    "a_sq = [ x*x  for x in a]  # <--- here is comprehension.  very compact, eh?\n",
    "\n",
    "print (a_sq)"
   ]
  },
  {
   "cell_type": "markdown",
   "id": "14dcfe61-db72-442f-9c7a-417e78368d86",
   "metadata": {},
   "source": [
    "## 2 - Process words in a sentence"
   ]
  },
  {
   "cell_type": "code",
   "execution_count": null,
   "id": "db7d4bb1-9ea4-4291-8c8e-2db6999dc656",
   "metadata": {},
   "outputs": [],
   "source": [
    "words = ['Sun', 'rises', 'in', 'the', 'East']\n",
    "print (words)"
   ]
  },
  {
   "cell_type": "code",
   "execution_count": null,
   "id": "de281c86-8e77-4352-9c54-3c3300887d52",
   "metadata": {},
   "outputs": [],
   "source": [
    "# first let's just copy the words\n",
    "words2 = [w for w in words]\n",
    "print (words2)"
   ]
  },
  {
   "cell_type": "code",
   "execution_count": null,
   "id": "2ddd26ac-8d88-465a-b36c-65fe91b17e06",
   "metadata": {},
   "outputs": [],
   "source": [
    "# upper case it \n",
    "words2 = [w.upper() for w in words]\n",
    "print (words2)"
   ]
  },
  {
   "cell_type": "code",
   "execution_count": null,
   "id": "b5b41038-dee4-4464-af65-22cbd08fac9e",
   "metadata": {},
   "outputs": [],
   "source": [
    "# reverse the words\n",
    "\n",
    "words2 = [w[::-1] for w in words]\n",
    "print (words2)"
   ]
  }
 ],
 "metadata": {
  "kernelspec": {
   "display_name": "Python 3 (ipykernel)",
   "language": "python",
   "name": "python3"
  },
  "language_info": {
   "codemirror_mode": {
    "name": "ipython",
    "version": 3
   },
   "file_extension": ".py",
   "mimetype": "text/x-python",
   "name": "python",
   "nbconvert_exporter": "python",
   "pygments_lexer": "ipython3",
   "version": "3.8.16"
  }
 },
 "nbformat": 4,
 "nbformat_minor": 5
}
