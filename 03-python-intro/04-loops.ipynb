{
 "cells": [
  {
   "cell_type": "markdown",
   "metadata": {
    "pycharm": {
     "name": "#%% md\n"
    }
   },
   "source": [
    "# Python Loops"
   ]
  },
  {
   "cell_type": "markdown",
   "metadata": {
    "pycharm": {
     "name": "#%% md\n"
    }
   },
   "source": [
    "\n",
    "### Introduction\n",
    "\n",
    "We are going to discuss loops"
   ]
  },
  {
   "cell_type": "markdown",
   "metadata": {},
   "source": [
    "## 1 - For Loop\n",
    "\n",
    "* Keyword `for` begins the loop. Colon `:` ends the first line of the loop.\n",
    "* Block of code indented is executed for each value in the list (hence the name \"for\" loops)\n",
    "* The loop ends after the variable `i` has taken all the values in the list"
   ]
  },
  {
   "cell_type": "code",
   "execution_count": null,
   "metadata": {},
   "outputs": [],
   "source": [
    "for i in [1, 5, 0, -1]:\n",
    "    print (i)"
   ]
  },
  {
   "cell_type": "markdown",
   "metadata": {},
   "source": [
    "### 1.1 - Range\n",
    "\n",
    "It is very common to use `range` with for loop.  `range()` gives you a sequence of integers up to some value (non-inclusive of the end-value) "
   ]
  },
  {
   "cell_type": "code",
   "execution_count": null,
   "metadata": {
    "pycharm": {
     "is_executing": true,
     "name": "#%%\n"
    },
    "tags": []
   },
   "outputs": [],
   "source": [
    "for i in range(10):\n",
    "    print(i)"
   ]
  },
  {
   "cell_type": "markdown",
   "metadata": {
    "pycharm": {
     "name": "#%% md\n"
    }
   },
   "source": [
    "### 1.2 - Odd / Even\n",
    "\n",
    "Now let's determine whether the number is odd or even. \n",
    "\n",
    "Here's how we can determine if a number is odd or even.\n",
    "\n",
    "```python\n",
    "number % 2 == 0 # even\n",
    "number % 2 == 1 # odd\n",
    "```"
   ]
  },
  {
   "cell_type": "code",
   "execution_count": null,
   "metadata": {
    "pycharm": {
     "is_executing": true,
     "name": "#%%\n"
    }
   },
   "outputs": [],
   "source": [
    "#TODO: Do the same loop, but print the number, and the word \"even\"  or \"odd\"\n",
    "for number in range(20):\n",
    "    if number % 2 == 0:\n",
    "        print(str(number) + \" is even\")\n",
    "    else:\n",
    "        print(str(number) + \" is odd\")"
   ]
  },
  {
   "cell_type": "markdown",
   "metadata": {
    "pycharm": {
     "name": "#%% md\n"
    }
   },
   "source": [
    "## 2 - While loops\n",
    "\n",
    "While loops can be used if number of loops it non-deterministic."
   ]
  },
  {
   "cell_type": "markdown",
   "metadata": {},
   "source": [
    "### 2.1 - count down!"
   ]
  },
  {
   "cell_type": "code",
   "execution_count": null,
   "metadata": {},
   "outputs": [],
   "source": [
    "n = 10\n",
    "while n > 0:\n",
    "    print (n)\n",
    "    n -= 1\n",
    "print ('blast off!')"
   ]
  },
  {
   "cell_type": "markdown",
   "metadata": {},
   "source": [
    "### 2.2 - Guessing Game"
   ]
  },
  {
   "cell_type": "code",
   "execution_count": null,
   "metadata": {},
   "outputs": [],
   "source": [
    "## Keep looping until the user enters a negative number\n",
    "\n",
    "input_number = int (input('Enter a number : '))\n",
    "\n",
    "while input_number >= 0:\n",
    "    print (\"You entered : \", input_number)\n",
    "    input_number = int (input('Enter a number : '))\n",
    "    \n",
    "print (\"Negative number entered, exiting the loop\")"
   ]
  },
  {
   "cell_type": "markdown",
   "metadata": {},
   "source": [
    "## 3 - Looping Through Lists\n",
    "\n",
    "To loop through list we use `for x in LIST` sytax"
   ]
  },
  {
   "cell_type": "code",
   "execution_count": null,
   "metadata": {},
   "outputs": [],
   "source": [
    "a = [1, 2, 3, \"hi\", \"bye\"]\n",
    "print (a)"
   ]
  },
  {
   "cell_type": "code",
   "execution_count": null,
   "metadata": {},
   "outputs": [],
   "source": [
    "for x in a:\n",
    "    print (x)"
   ]
  },
  {
   "cell_type": "markdown",
   "metadata": {},
   "source": [
    "## 4 - Looping through dictionaries"
   ]
  },
  {
   "cell_type": "code",
   "execution_count": null,
   "metadata": {},
   "outputs": [],
   "source": [
    "d = {'name' : 'Tim', \n",
    "     'age'  : 20,\n",
    "     'phone' : '123-456-789'\n",
    "    }\n",
    "\n",
    "d"
   ]
  },
  {
   "cell_type": "code",
   "execution_count": null,
   "metadata": {},
   "outputs": [],
   "source": [
    "# option 1 : iterate using keys\n",
    "for k in d.keys():\n",
    "    print ('key : ', k)\n",
    "    print ('value : ', d[k])\n",
    "    "
   ]
  },
  {
   "cell_type": "code",
   "execution_count": null,
   "metadata": {},
   "outputs": [],
   "source": [
    "# option 2 : \n",
    "\n",
    "for k,v in d.items():\n",
    "    print (k,v)"
   ]
  },
  {
   "cell_type": "markdown",
   "metadata": {},
   "source": [
    "## Exercise 1\n",
    "\n",
    "The computer will guess a random number between 1 to 10.\n",
    "\n",
    "User has to guess the number.\n",
    "\n",
    "Here is the process:\n",
    "\n",
    "- ask user a number\n",
    "- if it is higher, print \"too high\"\n",
    "- if it is lower, print \"too low\"\n",
    "- when the user guesses the correct number, exit the loop"
   ]
  },
  {
   "cell_type": "code",
   "execution_count": null,
   "metadata": {
    "pycharm": {
     "is_executing": true,
     "name": "#%%\n"
    }
   },
   "outputs": [],
   "source": [
    "import random\n",
    "\n",
    "n = 10\n",
    "magic_number = int(n * random.random()) + 1\n",
    "user_guess = 0\n",
    "\n",
    "# print(\"Random number is:\" + str(magic_number))\n",
    "user_guess = int(input(\"Guess the number :\"))\n",
    "while magic_number != user_guess:\n",
    "    user_guess = int(input(\"Guess a number\"))\n",
    "    \n",
    "    ## TODO\n",
    "    ## Implement your logic here printing  too high / too low\n",
    "    \n",
    "    if user_guess == magic_number:\n",
    "        print (\"You guessed it! \", magic_number)\n",
    "        break\n",
    "\n",
    "print (\"Thanks for playing!\")\n"
   ]
  },
  {
   "cell_type": "markdown",
   "metadata": {},
   "source": [
    "## Bonus Exercises\n",
    "\n",
    "- [guided-machine-learning/python/4-control.md](https://github.com/elephantscale/guided-machine-learning/blob/master/python/4-control.md)"
   ]
  },
  {
   "cell_type": "code",
   "execution_count": null,
   "metadata": {},
   "outputs": [],
   "source": []
  }
 ],
 "metadata": {
  "kernelspec": {
   "display_name": "Python 3 (ipykernel)",
   "language": "python",
   "name": "python3"
  },
  "language_info": {
   "codemirror_mode": {
    "name": "ipython",
    "version": 3
   },
   "file_extension": ".py",
   "mimetype": "text/x-python",
   "name": "python",
   "nbconvert_exporter": "python",
   "pygments_lexer": "ipython3",
   "version": "3.9.16"
  }
 },
 "nbformat": 4,
 "nbformat_minor": 4
}
