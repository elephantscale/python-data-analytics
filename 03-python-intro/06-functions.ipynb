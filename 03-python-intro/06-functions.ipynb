{
 "cells": [
  {
   "cell_type": "markdown",
   "metadata": {
    "pycharm": {
     "name": "#%% md\n"
    }
   },
   "source": [
    "# Functions\n",
    "\n",
    "Python allows us to create functions. We are going to see how to do that."
   ]
  },
  {
   "cell_type": "markdown",
   "metadata": {},
   "source": [
    "## 1 - Python Functions"
   ]
  },
  {
   "cell_type": "markdown",
   "metadata": {},
   "source": [
    "### 1.1 - No return functions"
   ]
  },
  {
   "cell_type": "code",
   "execution_count": null,
   "metadata": {
    "pycharm": {
     "is_executing": true,
     "name": "#%%\n"
    }
   },
   "outputs": [],
   "source": [
    "# simple function with one input and NO return value\n",
    "def say_hi(name):\n",
    "    print('Hi ', name)\n",
    "\n",
    "say_hi(\"Bob\")  # Should print \"hi Bob\""
   ]
  },
  {
   "cell_type": "markdown",
   "metadata": {},
   "source": [
    "### 1.2 - One return value"
   ]
  },
  {
   "cell_type": "code",
   "execution_count": null,
   "metadata": {
    "collapsed": false,
    "jupyter": {
     "outputs_hidden": false
    },
    "pycharm": {
     "is_executing": true,
     "name": "#%%\n"
    }
   },
   "outputs": [],
   "source": [
    "# simple function with two inputs and 1 return value\n",
    "def mymax(first, second):\n",
    "    if first > second:\n",
    "        return first\n",
    "    return second\n",
    "\n",
    "\n",
    "print(mymax(1, 2))  #Should print \"2\""
   ]
  },
  {
   "cell_type": "code",
   "execution_count": null,
   "metadata": {},
   "outputs": [],
   "source": [
    "# this function returns nothing!\n",
    "## TODO: fix the bug!\n",
    "\n",
    "def my_upper (str):\n",
    "    str.upper()\n",
    "\n",
    "\n",
    "print (my_upper('hi'))"
   ]
  },
  {
   "cell_type": "markdown",
   "metadata": {},
   "source": [
    "### 1.3 - More than one return value\n",
    "\n",
    "Python uses tuples to return multiple things from a function"
   ]
  },
  {
   "cell_type": "code",
   "execution_count": null,
   "metadata": {},
   "outputs": [],
   "source": [
    "def plus_minus_one (n):\n",
    "    return (n-1, n, n+1)\n",
    "\n",
    "ret  = plus_minus_one(10)\n",
    "ret"
   ]
  },
  {
   "cell_type": "markdown",
   "metadata": {},
   "source": [
    "we can capture individual returns into variables like this"
   ]
  },
  {
   "cell_type": "code",
   "execution_count": null,
   "metadata": {},
   "outputs": [],
   "source": [
    "(x,y,z) = plus_minus_one(100)\n",
    "print (x)\n",
    "print (y)\n",
    "print (z)"
   ]
  },
  {
   "cell_type": "code",
   "execution_count": null,
   "metadata": {},
   "outputs": [],
   "source": [
    "# brackets are optional\n",
    "\n",
    "x,y,z = plus_minus_one(100)\n",
    "print (x)\n",
    "print (y)\n",
    "print (z)"
   ]
  },
  {
   "cell_type": "markdown",
   "metadata": {
    "pycharm": {
     "name": "#%% md\n"
    }
   },
   "source": [
    "## 2 - Lambda Functions\n",
    "\n",
    "Lambda functions are anonymous functions, short one-liners that we pass as arguments without."
   ]
  },
  {
   "cell_type": "code",
   "execution_count": null,
   "metadata": {},
   "outputs": [],
   "source": [
    "## full fledged function\n",
    "\n",
    "def my_square (x):\n",
    "    return x*x\n",
    "    \n",
    "print (my_square(10))"
   ]
  },
  {
   "cell_type": "code",
   "execution_count": null,
   "metadata": {},
   "outputs": [],
   "source": [
    "# We can define simple functions using lambda functions\n",
    "\n",
    "my_square2 = lambda x : x*x\n",
    "\n",
    "print (my_square2 (11))"
   ]
  },
  {
   "cell_type": "markdown",
   "metadata": {},
   "source": [
    "### 2.1 - Functions in Comprehensions\n",
    "\n",
    "As a matter of fact when we used list comprehensions, we used lambda (annoymous) functions"
   ]
  },
  {
   "cell_type": "code",
   "execution_count": null,
   "metadata": {},
   "outputs": [],
   "source": [
    "# defining an expression on the fly\n",
    "[x*x for x in range(1,10+1)]"
   ]
  },
  {
   "cell_type": "code",
   "execution_count": null,
   "metadata": {},
   "outputs": [],
   "source": [
    "## Calling the 'regular' function\n",
    "[my_square(x) for x in range(1,10+1)]"
   ]
  },
  {
   "cell_type": "code",
   "execution_count": null,
   "metadata": {},
   "outputs": [],
   "source": [
    "## Calling the 'lambda' function\n",
    "[my_square2(x) for x in range(1,10+1)]"
   ]
  },
  {
   "cell_type": "code",
   "execution_count": null,
   "metadata": {
    "pycharm": {
     "name": "#%%\n"
    }
   },
   "outputs": [],
   "source": [
    "# sort by second value\n",
    "names = [(1, 'Mary'), (2, 'Bob'), (3, 'Zahra'), (4, 'Lu')]\n",
    "names.sort(key=lambda name_pair: name_pair[1])\n",
    "names"
   ]
  },
  {
   "cell_type": "markdown",
   "metadata": {},
   "source": [
    "## Exercises"
   ]
  },
  {
   "cell_type": "markdown",
   "metadata": {},
   "source": [
    "### Exercise - 1\n",
    "\n",
    "Trying out functions"
   ]
  },
  {
   "cell_type": "code",
   "execution_count": null,
   "metadata": {
    "pycharm": {
     "name": "#%%\n"
    }
   },
   "outputs": [],
   "source": [
    "# Now it is your turn. Try to experiment by creating a function yourself,\n",
    "# and then calling it.\n",
    "\n",
    "# Here is something to convert fahrenheit to celsius \n",
    "# (To convert temperatures in degrees Fahrenheit to Celsius, subtract 32 and multiply by 5/9)\n",
    "# TODO: complete the function\n",
    "def convert_F_to_C(f):\n",
    "    return 0\n",
    "\n",
    "temp_f = [35, 45, 56, 60, 70, 80, 90, 100]\n",
    "\n",
    "## TODO\n",
    "temp_c = [convert_F_to_C(f) for f in ???]\n",
    "print (temp_c)"
   ]
  },
  {
   "cell_type": "code",
   "execution_count": null,
   "metadata": {},
   "outputs": [],
   "source": [
    "## TODO: Define the function using 'lambda' expression and try it\n",
    "\n",
    "convert_F_to_C_2 = lambda ????\n",
    "\n",
    "[convert_F_to_C_2(f) for f in ???]"
   ]
  },
  {
   "cell_type": "code",
   "execution_count": null,
   "metadata": {},
   "outputs": [],
   "source": [
    "## TODO: do it with an expression\n",
    "\n",
    "[???  for f in temp_f ]"
   ]
  }
 ],
 "metadata": {
  "kernelspec": {
   "display_name": "Python 3 (ipykernel)",
   "language": "python",
   "name": "python3"
  },
  "language_info": {
   "codemirror_mode": {
    "name": "ipython",
    "version": 3
   },
   "file_extension": ".py",
   "mimetype": "text/x-python",
   "name": "python",
   "nbconvert_exporter": "python",
   "pygments_lexer": "ipython3",
   "version": "3.8.16"
  }
 },
 "nbformat": 4,
 "nbformat_minor": 4
}
