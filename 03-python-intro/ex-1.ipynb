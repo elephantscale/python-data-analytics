{
 "cells": [
  {
   "cell_type": "markdown",
   "id": "d93399ae-a98d-496e-8a7d-3de5b2268af7",
   "metadata": {},
   "source": [
    "# Python Exercise\n",
    "\n",
    "References:\n",
    "- https://pynative.com/python-exercises-with-solutions/"
   ]
  },
  {
   "cell_type": "markdown",
   "id": "5a1c199e-ac69-4e2e-b216-298420ceb62d",
   "metadata": {},
   "source": [
    "## Count number of items in a list\n",
    "\n",
    "```\n",
    "sample_list = [11, 45, 8, 11, 23, 45, 23, 45, 89]\n",
    "```\n",
    "\n",
    "Print out \n",
    "\n",
    "```\n",
    "{11: 2, 45: 3, 8: 1, 23: 2, 89: 1}\n",
    "```"
   ]
  },
  {
   "cell_type": "markdown",
   "id": "bcf62821-c956-43d9-82c3-39fdd2874d76",
   "metadata": {},
   "source": [
    "## Find Common Elements\n",
    "\n",
    "```\n",
    "first_list = [2, 3, 4, 5, 6, 7, 8]\n",
    "second_list = [1, 4, 7, 9]\n",
    "```\n",
    "\n",
    "Print out \n",
    "\n",
    "```\n",
    "[4, 7]\n",
    "```\n"
   ]
  },
  {
   "cell_type": "markdown",
   "id": "d3cde2f3-1429-4bd6-8864-ad39b4db7b45",
   "metadata": {},
   "source": [
    "## De-Duplicate a List\n",
    "\n",
    "Given this list\n",
    "\n",
    "```\n",
    "[1, 4, 2, 3, 1, 5, 6, 7, 5, 7, 7]\n",
    "```\n",
    "\n",
    "print (note: maintain order!)\n",
    "\n",
    "```\n",
    "1, 4, 2, 3, 5, 6, 7\n",
    "```"
   ]
  },
  {
   "cell_type": "code",
   "execution_count": null,
   "id": "9cafd748-4a1b-4bff-837f-ea3a45898a2e",
   "metadata": {},
   "outputs": [],
   "source": []
  }
 ],
 "metadata": {
  "kernelspec": {
   "display_name": "Python 3 (ipykernel)",
   "language": "python",
   "name": "python3"
  },
  "language_info": {
   "codemirror_mode": {
    "name": "ipython",
    "version": 3
   },
   "file_extension": ".py",
   "mimetype": "text/x-python",
   "name": "python",
   "nbconvert_exporter": "python",
   "pygments_lexer": "ipython3",
   "version": "3.9.16"
  }
 },
 "nbformat": 4,
 "nbformat_minor": 5
}
