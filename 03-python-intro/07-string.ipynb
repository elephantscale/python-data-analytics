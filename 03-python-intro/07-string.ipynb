{
 "cells": [
  {
   "cell_type": "markdown",
   "metadata": {
    "pycharm": {
     "name": "#%% md\n"
    }
   },
   "source": [
    "# Strings"
   ]
  },
  {
   "cell_type": "markdown",
   "metadata": {},
   "source": [
    "## Defining Strings\n",
    "\n",
    "Strings can be defined with single quotes, double quotes and triple quotes!"
   ]
  },
  {
   "cell_type": "code",
   "execution_count": null,
   "metadata": {},
   "outputs": [],
   "source": [
    "s1 = 'string 1'  # using single quotes\n",
    "print (s1)"
   ]
  },
  {
   "cell_type": "code",
   "execution_count": null,
   "metadata": {},
   "outputs": [],
   "source": [
    "s2 = \"string 2\"  # double quotes\n",
    "pritn (s2)"
   ]
  },
  {
   "cell_type": "code",
   "execution_count": null,
   "metadata": {},
   "outputs": [],
   "source": [
    "## multi line strings\n",
    "\n",
    "sql = \"\"\"\n",
    "SELECT * \n",
    "FROM table1\n",
    "WHERE x > 0\n",
    "\"\"\"\n",
    "\n",
    "print (sql)"
   ]
  },
  {
   "cell_type": "markdown",
   "metadata": {},
   "source": [
    "## Formatting Strings"
   ]
  },
  {
   "cell_type": "code",
   "execution_count": null,
   "metadata": {},
   "outputs": [],
   "source": [
    "name = 'Jon'\n",
    "age = 20\n",
    "city = 'San Jose'\n",
    "\n",
    "# here is how we format strings\n",
    "print (f\"{name} is {age} years old\")  # double quotes\n",
    "print (f'{name} is {age} years old')  # single quotes\n",
    "\n",
    "# even triple quoted strings\n",
    "print (f\"\"\"\n",
    "{name} is {age} years old\n",
    "\"\"\")"
   ]
  },
  {
   "cell_type": "code",
   "execution_count": null,
   "metadata": {},
   "outputs": [],
   "source": [
    "## TODO print out\n",
    "# Jon is 20 years old and lives in San Jose"
   ]
  },
  {
   "cell_type": "markdown",
   "metadata": {},
   "source": [
    "## Manipulating Strings"
   ]
  },
  {
   "cell_type": "code",
   "execution_count": null,
   "metadata": {},
   "outputs": [],
   "source": [
    "s1 = 'Hello World'\n",
    "\n",
    "print ('string length : ', len(s1))\n",
    "print ('uppercase : ', s1.upper())\n",
    "print ('lowercase : ', s1.lower())"
   ]
  },
  {
   "cell_type": "markdown",
   "metadata": {},
   "source": [
    "## Trim Strings\n",
    "\n",
    "`strip` function.  Also investigate `lstrip`, `rstrip` functions "
   ]
  },
  {
   "cell_type": "code",
   "execution_count": null,
   "metadata": {},
   "outputs": [],
   "source": [
    "s = '    hi   '\n",
    "s.strip()"
   ]
  },
  {
   "cell_type": "code",
   "execution_count": null,
   "metadata": {},
   "outputs": [],
   "source": [
    "## TODO : try lstrip  and rstrip  functions"
   ]
  },
  {
   "cell_type": "markdown",
   "metadata": {},
   "source": [
    "## Splitting Strings"
   ]
  },
  {
   "cell_type": "code",
   "execution_count": null,
   "metadata": {},
   "outputs": [],
   "source": [
    "s = 'hello world, good bye world!'\n",
    "s.split(' ')  # split by space"
   ]
  },
  {
   "cell_type": "code",
   "execution_count": null,
   "metadata": {},
   "outputs": [],
   "source": [
    "address = \"123 Main St, San Jose, CA\"\n",
    "tokens = address.split(',')\n",
    "\n",
    "print ('tokens len:', len(tokens))\n",
    "print ('street:' , tokens[0])\n",
    "print ('city:', tokens[1])"
   ]
  },
  {
   "cell_type": "markdown",
   "metadata": {},
   "source": [
    "## Matching Strings"
   ]
  },
  {
   "cell_type": "markdown",
   "metadata": {},
   "source": [
    "### Sub String"
   ]
  },
  {
   "cell_type": "code",
   "execution_count": null,
   "metadata": {},
   "outputs": [],
   "source": [
    "s1 = 'hello'\n",
    "s2 = 'hello world'\n",
    "s3 = 'bye world'\n",
    "\n",
    "if s1 in s2:\n",
    "    print ('s1 is in s2')\n",
    "else:\n",
    "    print ('s1 is NOT in s2')"
   ]
  },
  {
   "cell_type": "code",
   "execution_count": null,
   "metadata": {},
   "outputs": [],
   "source": [
    "if s1 in s3:\n",
    "    print ('s1 is in s3')\n",
    "else:\n",
    "    print ('s1 is NOT in s3')"
   ]
  },
  {
   "cell_type": "markdown",
   "metadata": {},
   "source": [
    "### Regex"
   ]
  },
  {
   "cell_type": "code",
   "execution_count": null,
   "metadata": {
    "collapsed": false,
    "jupyter": {
     "outputs_hidden": false
    },
    "pycharm": {
     "is_executing": true,
     "name": "#%%\n"
    }
   },
   "outputs": [],
   "source": [
    "# TODO split string by non-alphabetic\n",
    "# We need to use regex\n",
    "\n",
    "import re\n",
    "clean_2 = re.split('[^a-zA-Z]', s) # [^a-zA-Z] means a list of characters form a to z and A to Z\n",
    "clean_2"
   ]
  },
  {
   "cell_type": "markdown",
   "metadata": {},
   "source": [
    "## Exercise\n",
    "\n",
    "Print unique words from this paragraph."
   ]
  },
  {
   "cell_type": "code",
   "execution_count": 1,
   "metadata": {},
   "outputs": [],
   "source": [
    "str = \"it was the best of times \\\n",
    "it was the worst of times \\\n",
    "it was the age of wisdom \\\n",
    "it was the age of foolishness \\\n",
    "it was the epoch of belief \\\n",
    "it was the epoch of incredulity \\\n",
    "it was the season of light \\\n",
    "it was the season of darkness \\\n",
    "it was the spring of hope \\\n",
    "it was the winter of despair\"\n",
    "\n",
    "words = str.split()\n",
    "# list of words. \n",
    "# Now find the unique words"
   ]
  },
  {
   "cell_type": "code",
   "execution_count": null,
   "metadata": {},
   "outputs": [],
   "source": []
  }
 ],
 "metadata": {
  "kernelspec": {
   "display_name": "Python 3 (ipykernel)",
   "language": "python",
   "name": "python3"
  },
  "language_info": {
   "codemirror_mode": {
    "name": "ipython",
    "version": 3
   },
   "file_extension": ".py",
   "mimetype": "text/x-python",
   "name": "python",
   "nbconvert_exporter": "python",
   "pygments_lexer": "ipython3",
   "version": "3.8.16"
  }
 },
 "nbformat": 4,
 "nbformat_minor": 4
}
