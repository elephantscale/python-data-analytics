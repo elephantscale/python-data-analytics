{
 "cells": [
  {
   "cell_type": "markdown",
   "id": "b4859670-36cf-49b4-8676-57d7a34a9703",
   "metadata": {},
   "source": [
    "## Exercises 2"
   ]
  },
  {
   "cell_type": "markdown",
   "id": "c1fac291-7494-40f1-8805-c8064249dbea",
   "metadata": {},
   "source": [
    "## Remove empty strings from a list\n",
    "\n",
    "Given\n",
    "\n",
    "```\n",
    "str_list = [\"Emma\", \"Jon\", \"\", \"Kelly\", None, \"Eric\", \"\"]\n",
    "```\n",
    "\n",
    "Print \n",
    "\n",
    "```\n",
    "[\"Emma\", \"Jon\", \"Kelly\", None, \"Eric\"]\n",
    "```"
   ]
  },
  {
   "cell_type": "markdown",
   "id": "8778109f-fba4-451d-a9f9-2933dbfe2e94",
   "metadata": {},
   "source": [
    "## Remove non-alpha-numeric charectors from a string\n",
    "\n",
    "Given\n",
    "\n",
    "```\n",
    "str = \"/* Mary had ! a litle lamb (3)\"\n",
    "```\n",
    "\n",
    "print \n",
    "\n",
    "```\n",
    "Mary had a little lamb 3\n",
    "```"
   ]
  },
  {
   "cell_type": "markdown",
   "id": "8c242dc3-3aab-4a91-ace9-d35610df8200",
   "metadata": {},
   "source": [
    "## Print Unique words from a sentence\n",
    "\n",
    "Given\n",
    "\n",
    "```\n",
    "s = \"hello hello hi hello world goodbye world\"\n",
    "```\n",
    "\n",
    "print \n",
    "\n",
    "```\n",
    "hello hi world goodbye\n",
    "```\n",
    "\n",
    "What if we had more than one space\n",
    "\n",
    "```\n",
    "s = \"hello   hello hi hello world goodbye world\"\n",
    "```"
   ]
  },
  {
   "cell_type": "code",
   "execution_count": null,
   "id": "e7b201ce-09ab-4c2c-9daa-c0360251fcb3",
   "metadata": {},
   "outputs": [],
   "source": []
  }
 ],
 "metadata": {
  "kernelspec": {
   "display_name": "Python 3 (ipykernel)",
   "language": "python",
   "name": "python3"
  },
  "language_info": {
   "codemirror_mode": {
    "name": "ipython",
    "version": 3
   },
   "file_extension": ".py",
   "mimetype": "text/x-python",
   "name": "python",
   "nbconvert_exporter": "python",
   "pygments_lexer": "ipython3",
   "version": "3.9.16"
  }
 },
 "nbformat": 4,
 "nbformat_minor": 5
}
