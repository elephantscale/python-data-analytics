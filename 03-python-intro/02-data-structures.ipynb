{
 "cells": [
  {
   "cell_type": "markdown",
   "id": "1ffcc8dd-56b9-42f6-9a1f-848c1eddd62e",
   "metadata": {},
   "source": [
    "# Python Data Structures\n",
    "\n",
    "Basic data strcutures:\n",
    "\n",
    "| Type       | Description                                                 | Example                                                      |\n",
    "|------------|-------------------------------------------------------------|--------------------------------------------------------------|\n",
    "| Tuple      | ordered, unchangeable, and allow duplicate values.          | t = (1, 3.14, \"hi\")                                          |\n",
    "| List       | ordered, modifiable, and allow duplicate values.            | l = [1, 3.14, \"hi\"]                                          |\n",
    "| Set        | unordered, unchangeable, and do not allow duplicate values. | s = {'a', 'b', 'c', 'a'}                                     |\n",
    "| Dictionary | ordered, changeable, and does not allow duplicates.         | d = {\"brand\": \"Ford\", \"model\" : \"Mustang\", \"year\" : 1964 } |"
   ]
  },
  {
   "cell_type": "markdown",
   "id": "bf11455a-21d6-4317-9d2c-c3b92af6fba5",
   "metadata": {},
   "source": [
    "## 1 - Tuple\n",
    "\n",
    "Tuples have regular brackets ().  They are immutable, which means the values, ordering, and other things can't be changed.  The name tuple comes from quadruple, quntule, etc."
   ]
  },
  {
   "cell_type": "code",
   "execution_count": null,
   "id": "6f6a5a5d-5a9b-4f32-9d5a-261c65280769",
   "metadata": {},
   "outputs": [],
   "source": [
    "t = (1, 3.14, 'hi')\n",
    "print (type (t))"
   ]
  },
  {
   "cell_type": "code",
   "execution_count": null,
   "id": "13bc098c-5c29-4476-932d-7602ee589376",
   "metadata": {},
   "outputs": [],
   "source": [
    "# 0 based index\n",
    "print (t[0])\n",
    "print (t[2])"
   ]
  },
  {
   "cell_type": "code",
   "execution_count": null,
   "id": "36f56e14-3a4f-46b1-8571-91afaf4381a4",
   "metadata": {},
   "outputs": [],
   "source": [
    "# Can not change tuple values! -- Readonly!\n",
    "t[0] = 2"
   ]
  },
  {
   "cell_type": "markdown",
   "id": "aa6a2747-49b6-46f8-89a0-7cff2804d8d2",
   "metadata": {
    "pycharm": {
     "name": "#%% md\n"
    }
   },
   "source": [
    "## 2 - Lists\n",
    "\n",
    "Lists are surrounded by square brackets.  They are an ordered sequence."
   ]
  },
  {
   "cell_type": "code",
   "execution_count": null,
   "id": "b60238bd-6b68-44df-a8a0-0e250b392e5f",
   "metadata": {
    "pycharm": {
     "name": "#%%\n"
    }
   },
   "outputs": [],
   "source": [
    "mylist = ['abc', 1, 2.5]\n",
    "print (mylist[0])\n",
    "print (mylist[1:])"
   ]
  },
  {
   "cell_type": "code",
   "execution_count": null,
   "id": "5a805269-064a-40e9-88c9-9bb81c65be20",
   "metadata": {
    "pycharm": {
     "name": "#%%\n"
    }
   },
   "outputs": [],
   "source": [
    "#Now you try! Make some lists and watch what the results are."
   ]
  },
  {
   "cell_type": "markdown",
   "id": "2752eb41-65f8-4b71-bff9-08592c5681a8",
   "metadata": {
    "pycharm": {
     "name": "#%% md\n"
    },
    "tags": []
   },
   "source": [
    "Lists are able to function like arrays in other languages, except that they allow you to do things like inserts and deletions.\n",
    "\n",
    "We are going to learn later about arrays and matrices in the numpy package which will be very fast for heavy number crunching."
   ]
  },
  {
   "cell_type": "markdown",
   "id": "a26a745e-7f59-48b3-9f88-a0dd107455e5",
   "metadata": {},
   "source": [
    "## 3 - Sets\n",
    "\n",
    "Sets are like lists, except\n",
    "\n",
    "- they are unordered\n",
    "- no duplicates allowed"
   ]
  },
  {
   "cell_type": "code",
   "execution_count": null,
   "id": "b4b828b6-66a4-409e-ab49-bac81a297a99",
   "metadata": {},
   "outputs": [],
   "source": [
    "s1 = set([\"a\", \"b\", \"c\", \"a\"])\n",
    "s1 # note only one 'a'!"
   ]
  },
  {
   "cell_type": "code",
   "execution_count": null,
   "id": "2a05a760-ae81-4e8d-a13f-07c741f26e15",
   "metadata": {},
   "outputs": [],
   "source": [
    "## Add an element to set\n",
    "\n",
    "s1.add('d')\n",
    "print (s1)"
   ]
  },
  {
   "cell_type": "markdown",
   "id": "2a0d4a50-920e-4d36-b121-428d9b1365e2",
   "metadata": {
    "pycharm": {
     "name": "#%% md\n"
    }
   },
   "source": [
    "## 4 -  Dictionaries\n",
    "These are key-value pairs, similar to maps, hashes, or associative arrays in other languages.\n"
   ]
  },
  {
   "cell_type": "code",
   "execution_count": null,
   "id": "37650faf-3403-4e87-9b68-fa5b455948fd",
   "metadata": {
    "pycharm": {
     "name": "#%%\n"
    }
   },
   "outputs": [],
   "source": [
    "d1 = {} #This is an empty dictionary\n",
    "d1['one'] = 1  #assignment\n",
    "d1['two']  = 2\n",
    "print (d1)"
   ]
  },
  {
   "cell_type": "code",
   "execution_count": null,
   "id": "c6bcccfd-0695-421e-9bd6-0dc9b7f57e2e",
   "metadata": {},
   "outputs": [],
   "source": [
    "d2 = {'name':'Tim', 'address':'123 Main Street', 'city':'Seattle'}\n",
    "\n",
    "# just print the keys\n",
    "print (d2.keys())"
   ]
  },
  {
   "cell_type": "code",
   "execution_count": null,
   "id": "92e925fd-bc69-45e3-8878-772d8435742f",
   "metadata": {},
   "outputs": [],
   "source": [
    "# just print values\n",
    "d2.values()"
   ]
  },
  {
   "cell_type": "code",
   "execution_count": null,
   "id": "d579b654-ac0f-47fc-b4e5-b52c8d69fd9a",
   "metadata": {},
   "outputs": [],
   "source": [
    "## nested dict\n",
    "\n",
    "d3 = {}\n",
    "d3['name'] = 'Tim'\n",
    "d3['address'] = {}\n",
    "d3['address']['street'] = \"123 Main Street\"\n",
    "d3['address']['city'] = \"Seattle\"\n",
    "d3['address']['state'] = \"Washington\"\n",
    "\n",
    "d3"
   ]
  },
  {
   "cell_type": "code",
   "execution_count": null,
   "id": "38b3a029-edbe-4a13-8978-96ecaead2c16",
   "metadata": {},
   "outputs": [],
   "source": [
    "## Pretty print nested dictionaries\n",
    "\n",
    "import pprint\n",
    "pprint.pprint (d3, indent=4)"
   ]
  },
  {
   "cell_type": "markdown",
   "id": "57849fe6-6bac-437b-a772-b0353be8d267",
   "metadata": {},
   "source": [
    "### Getting Default values from Dictionaries\n",
    "\n",
    "A good defensive style program can deal with missing values..."
   ]
  },
  {
   "cell_type": "code",
   "execution_count": null,
   "id": "841d100a-572b-48e6-a12e-594ab569c24c",
   "metadata": {},
   "outputs": [],
   "source": [
    "d = {}\n",
    "d ['name'] = 'Tim'\n",
    "print (d['name'])\n",
    "print (d['age'])  # <--- key error"
   ]
  },
  {
   "cell_type": "code",
   "execution_count": null,
   "id": "f5a37934-fa5e-4af0-87c5-64924bbc63d3",
   "metadata": {},
   "outputs": [],
   "source": [
    "# instead do this!\n",
    "## use 'get' function with a default value\n",
    "d = {}\n",
    "d ['name'] = 'Tim'\n",
    "print (\"name:\" , d.get ('name', 'Unknown'))\n",
    "print (\"age:\", d.get ('age', 'Unknown'))"
   ]
  },
  {
   "cell_type": "markdown",
   "id": "9bdabd6e-2831-4bf6-81d2-fe6a023af851",
   "metadata": {},
   "source": [
    "## Practice\n",
    "\n",
    "Now it is your turn. Try creating some dictionaries, lists, and tuples."
   ]
  },
  {
   "cell_type": "code",
   "execution_count": null,
   "id": "5e3ea372-fef2-4da2-8449-57f38d0cb06b",
   "metadata": {},
   "outputs": [],
   "source": [
    "## play ground"
   ]
  },
  {
   "cell_type": "markdown",
   "id": "96d974ae-f6ed-4e01-beab-4730d3066030",
   "metadata": {},
   "source": [
    "## Exercise 1\n",
    "\n",
    "Create a record of a person (you) using all the data structures we learned.  Here is a sample\n",
    "\n",
    "* Name : String\n",
    "* Age : Int\n",
    "* Height: float\n",
    "* Address : a  dictionary\n",
    "   * Street : String (\"123 Main St\")\n",
    "   * City : String (\"Seattle\")\n",
    "* Phones : a list ('123', '456', '789') -- can we have dupes here?\n",
    "* Email : a set ('tim@gmail.com',  'tim@company.com')  -- can we have dupes here?\n",
    "* Social : a dict {'twitter' : '@tim', 'facebook' : 'fb' ...}  -- can we have dupes here?"
   ]
  },
  {
   "cell_type": "code",
   "execution_count": null,
   "id": "a1244899-a3bb-443b-841b-f87abe0f94fc",
   "metadata": {},
   "outputs": [],
   "source": [
    "# here is some starter code\n",
    "\n",
    "person = {}\n",
    "person['name'] = 'Tim'\n",
    "# ... add other things..\n",
    "person['phones'] = ['123', '456', '789']\n",
    "\n",
    "person"
   ]
  },
  {
   "cell_type": "markdown",
   "id": "2d6ff448-51df-43ba-9e0b-bbea8415ed72",
   "metadata": {},
   "source": [
    "## Bonus Exercises\n",
    "\n",
    "- [guided-machine-learning/python/5-data-structures.md](https://github.com/elephantscale/guided-machine-learning/blob/master/python/5-data-structures.md) - we have some comprehensive exercises for data structures here.  Try them out "
   ]
  },
  {
   "cell_type": "code",
   "execution_count": null,
   "id": "1aa21bae-57b9-4ed0-a2ce-0a7d85352e07",
   "metadata": {},
   "outputs": [],
   "source": []
  }
 ],
 "metadata": {
  "kernelspec": {
   "display_name": "Python 3 (ipykernel)",
   "language": "python",
   "name": "python3"
  },
  "language_info": {
   "codemirror_mode": {
    "name": "ipython",
    "version": 3
   },
   "file_extension": ".py",
   "mimetype": "text/x-python",
   "name": "python",
   "nbconvert_exporter": "python",
   "pygments_lexer": "ipython3",
   "version": "3.8.16"
  }
 },
 "nbformat": 4,
 "nbformat_minor": 5
}
